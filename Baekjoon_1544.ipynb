{
 "cells": [
  {
   "cell_type": "markdown",
   "id": "ee790023-ac0a-4af6-8cd6-b65a0c607f83",
   "metadata": {},
   "source": [
    "# 백준 1544번"
   ]
  },
  {
   "cell_type": "code",
   "execution_count": 1,
   "id": "f5c8921b-9092-4ad2-a895-3352b1f4015c",
   "metadata": {},
   "outputs": [
    {
     "name": "stdin",
     "output_type": "stream",
     "text": [
      " 5\n",
      " aaaa\n",
      " aaa\n",
      " aa\n",
      " aaaa\n",
      " aaaaa\n"
     ]
    },
    {
     "name": "stdout",
     "output_type": "stream",
     "text": [
      "4\n"
     ]
    }
   ],
   "source": [
    "from collections import deque\n",
    "\n",
    "Queue = []\n",
    "a = 0\n",
    "count = 0\n",
    "point = 0\n",
    "n = int(input())\n",
    "for j in range(n):\n",
    "    s = input()\n",
    "    q = deque([])\n",
    "    for i in range(len(s)):\n",
    "        q.append(s[i])\n",
    "    Queue.append(q)\n",
    "\n",
    "\n",
    "for all in range(len(Queue)):\n",
    "    inQueue = Queue[0+point]\n",
    "    for t in range(all, len(Queue[0+point])):\n",
    "        inQueue.rotate(1)\n",
    "        for all_2 in range(all ,t):  \n",
    "            if inQueue == Queue[-1]:\n",
    "                count = count + 1\n",
    "            elif inQueue == Queue[0+all_2]:  \n",
    "                count = count + 1\n",
    "    point = point + 1\n",
    "\n",
    "print(count)\n"
   ]
  },
  {
   "cell_type": "code",
   "execution_count": 2,
   "id": "66e0b30c-8831-435d-b8bd-5816a05dec76",
   "metadata": {},
   "outputs": [
    {
     "name": "stdin",
     "output_type": "stream",
     "text": [
      " 5\n",
      " picture\n",
      " turepic\n",
      " icturep\n",
      " word\n",
      " ordw\n"
     ]
    },
    {
     "ename": "IndexError",
     "evalue": "list index out of range",
     "output_type": "error",
     "traceback": [
      "\u001b[1;31m---------------------------------------------------------------------------\u001b[0m",
      "\u001b[1;31mIndexError\u001b[0m                                Traceback (most recent call last)",
      "Cell \u001b[1;32mIn[2], line 23\u001b[0m\n\u001b[0;32m     21\u001b[0m         \u001b[38;5;28;01mif\u001b[39;00m inQueue \u001b[38;5;241m==\u001b[39m Queue[\u001b[38;5;241m-\u001b[39m\u001b[38;5;241m1\u001b[39m]:\n\u001b[0;32m     22\u001b[0m             count \u001b[38;5;241m=\u001b[39m count \u001b[38;5;241m+\u001b[39m \u001b[38;5;241m1\u001b[39m\n\u001b[1;32m---> 23\u001b[0m         \u001b[38;5;28;01melif\u001b[39;00m inQueue \u001b[38;5;241m==\u001b[39m Queue[\u001b[38;5;241m0\u001b[39m\u001b[38;5;241m+\u001b[39mall_2]:  \n\u001b[0;32m     24\u001b[0m             count \u001b[38;5;241m=\u001b[39m count \u001b[38;5;241m+\u001b[39m \u001b[38;5;241m1\u001b[39m\n\u001b[0;32m     25\u001b[0m point \u001b[38;5;241m=\u001b[39m point \u001b[38;5;241m+\u001b[39m \u001b[38;5;241m1\u001b[39m\n",
      "\u001b[1;31mIndexError\u001b[0m: list index out of range"
     ]
    }
   ],
   "source": [
    "from collections import deque\n",
    "\n",
    "Queue = []\n",
    "a = 0\n",
    "count = 0\n",
    "point = 0\n",
    "n = int(input())\n",
    "for j in range(n):\n",
    "    s = input()\n",
    "    q = deque([])\n",
    "    for i in range(len(s)):\n",
    "        q.append(s[i])\n",
    "    Queue.append(q)\n",
    "\n",
    "\n",
    "for all in range(len(Queue)):\n",
    "    inQueue = Queue[0+point]\n",
    "    for t in range(all, len(Queue[0+point])):\n",
    "        inQueue.rotate(1)\n",
    "        for all_2 in range(all ,t):  \n",
    "            if inQueue == Queue[-1]:\n",
    "                count = count + 1\n",
    "            elif inQueue == Queue[0+all_2]:  \n",
    "                count = count + 1\n",
    "    point = point + 1\n",
    "\n",
    "print(count)\n"
   ]
  },
  {
   "cell_type": "markdown",
   "id": "a32b8e5e-1801-44ef-838a-98b20377650c",
   "metadata": {},
   "source": [
    "## 예제 1번은 안되는거 해결해야함"
   ]
  },
  {
   "cell_type": "code",
   "execution_count": null,
   "id": "7bc2c1a9-e00f-4f43-af7e-1a45863c49b3",
   "metadata": {},
   "outputs": [],
   "source": [
    "from collections import deque\n",
    "\n",
    "Queue = []\n",
    "a = 0\n",
    "count = 0\n",
    "point = 0\n",
    "n = int(input())\n",
    "for j in range(n):\n",
    "    s = input()\n",
    "    q = deque([])\n",
    "    for i in range(len(s)):\n",
    "        q.append(s[i])\n",
    "    Queue.append(q)\n",
    "\n",
    "\n",
    "for all in range(len(Queue)):\n",
    "    inQueue = Queue[0+point]\n",
    "    print(inQueue)\n",
    "    for t in range(all, len(Queue[0+point])):\n",
    "        inQueue.rotate(1)\n",
    "        for all_2 in range(all ,t):  \n",
    "            if inQueue == Queue[-1]:\n",
    "                count = count + 1\n",
    "            elif inQueue == Queue[0+all_2]:  \n",
    "                count = count + 1\n",
    "    point = point + 1\n",
    "\n",
    "print(count)\n"
   ]
  }
 ],
 "metadata": {
  "kernelspec": {
   "display_name": "Python 3 (ipykernel)",
   "language": "python",
   "name": "python3"
  },
  "language_info": {
   "codemirror_mode": {
    "name": "ipython",
    "version": 3
   },
   "file_extension": ".py",
   "mimetype": "text/x-python",
   "name": "python",
   "nbconvert_exporter": "python",
   "pygments_lexer": "ipython3",
   "version": "3.12.3"
  }
 },
 "nbformat": 4,
 "nbformat_minor": 5
}
