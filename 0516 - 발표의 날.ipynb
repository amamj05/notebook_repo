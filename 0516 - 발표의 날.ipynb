{
 "cells": [
  {
   "cell_type": "markdown",
   "id": "cf830b80-bd3f-4ec5-b700-37bf28df2761",
   "metadata": {},
   "source": [
    "### 완전 탐색 (브루트 포스 Brute Force)"
   ]
  },
  {
   "cell_type": "markdown",
   "id": "dfe6301e-4908-439d-9d8d-1e7db8d95c7f",
   "metadata": {},
   "source": [
    "다은님 코테 백준1260번  \n",
    "강사님과 함께 보기"
   ]
  },
  {
   "cell_type": "code",
   "execution_count": null,
   "id": "a24a532b-b283-470c-8726-616e0ff9e36d",
   "metadata": {},
   "outputs": [],
   "source": [
    "# 오류 수정 코드\n",
    "\n",
    "N,M,V = map(int,input().split())\n",
    "A = [[]for _ in range(N+1)]  #인접리스트를 생성\n",
    "visited = [False] * (N+1)  #방문리스트 생성 \n",
    "# graph = [[False] * (N+1) for _ in range(N+1)] #2차원 배열그래프\n",
    "\n",
    "for _ in range(M):\n",
    "    a,b = map(int,input().split())  #M의 수만큼 연결노드 a,b를 입력받음\n",
    "    A[a].append(b)\n",
    "    A[b].append(a)   #a b 를 간선으로 연결(쌍방)\n",
    "\n",
    "\n",
    "def dfs(V):\n",
    "    visited[V] = True  #첫 시작 번호 V를 돎 = 방문완료 트루 \n",
    "    print(V,end = ' ') #현재 정점 출력 \n",
    "    for next in  A[V]: #인접리스트 중 다음 숫자가 \n",
    "        if not visited[next]:\n",
    "            dfs(next)          #방문되지 않았고 V와 연결이돼있다면 dfs실행 \n",
    "    \n",
    "\n",
    "dfs(V)"
   ]
  },
  {
   "cell_type": "code",
   "execution_count": null,
   "id": "80f0896a-b962-47a9-96e4-c0ef8770b870",
   "metadata": {},
   "outputs": [],
   "source": [
    "# 고치기 전 코드\n",
    "\n",
    "\n",
    "N,M,V = map(int,input().split())\n",
    "A = [[]for _ in range(N+1)]  #인접리스트를 생성\n",
    "visited = [False] * (N+1)  #방문리스트 생성 \n",
    "V =[[False] * (N+1) for _ in range(N+1)] #2차원 배열그래프\n",
    "\n",
    "\n",
    "\n",
    "def dfs(V):\n",
    "    visited[V] = True  #첫 시작 번호 V를 돎 = 방문완료 트루 \n",
    "    print(V,end = ' ') #현재 정점 출력 \n",
    "    for next in  A[V]: #인접리스트 중 다음 숫자가 \n",
    "        if not visited[next]:\n",
    "            dfs(next)          #방문되지 않았고 V와 연결이돼있다면 dfs실행 \n",
    "\n",
    "\n",
    "for _ in range(M):\n",
    "    a,b = map(int,input().split())  #M의 수만큼 연결노드 a,b를 입력받음\n",
    "    A[a].append(b)\n",
    "    A[b].append(a)   #a b 를 간선으로 연결(쌍방)\n",
    "\n",
    "    \n",
    "\n",
    "\n",
    "dfs(V)"
   ]
  },
  {
   "cell_type": "code",
   "execution_count": null,
   "id": "1a20d86e-0414-4e9a-a497-1821f89c7401",
   "metadata": {},
   "outputs": [],
   "source": []
  }
 ],
 "metadata": {
  "kernelspec": {
   "display_name": "Python 3 (ipykernel)",
   "language": "python",
   "name": "python3"
  },
  "language_info": {
   "codemirror_mode": {
    "name": "ipython",
    "version": 3
   },
   "file_extension": ".py",
   "mimetype": "text/x-python",
   "name": "python",
   "nbconvert_exporter": "python",
   "pygments_lexer": "ipython3",
   "version": "3.12.3"
  }
 },
 "nbformat": 4,
 "nbformat_minor": 5
}
