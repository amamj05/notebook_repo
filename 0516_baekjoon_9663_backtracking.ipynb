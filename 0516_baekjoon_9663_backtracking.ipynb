{
 "cells": [
  {
   "cell_type": "code",
   "execution_count": null,
   "id": "63e5bd7a-264b-4899-82e0-3e4ab219fdad",
   "metadata": {},
   "outputs": [],
   "source": []
  },
  {
   "cell_type": "code",
   "execution_count": null,
   "id": "fc0871a5-e26c-4df9-af58-29cb07113bf1",
   "metadata": {},
   "outputs": [],
   "source": []
  },
  {
   "cell_type": "code",
   "execution_count": 1,
   "id": "0d648f28-a36c-4b02-a1cf-e466569c3d9d",
   "metadata": {},
   "outputs": [
    {
     "name": "stdout",
     "output_type": "stream",
     "text": [
      "재귀함수 DFS - 100000번 반복: 2.5134348869 시간\n",
      "sw_stack DFS - 100000번 반복: 2.7129721642 시간\n",
      "sw_queue BFS - 100000번 반복: 2.9919981956 시간\n"
     ]
    }
   ],
   "source": [
    "import time \n",
    "from collections import deque\n",
    "def create_cote_graph():\n",
    "    graph = {}\n",
    "    graph[0] = {1,2}\n",
    "    graph[1] = {0,3,4}\n",
    "    graph[2] = {0}\n",
    "    graph[3] = {1}\n",
    "    graph[4] = {1,5}\n",
    "    graph[5] = {4}\n",
    "    return graph\n",
    "\n",
    "def dfs_recursive(graph, start, visited=None):\n",
    "    if visited is None:\n",
    "        visited = set()\n",
    "    visited.add(start)\n",
    "    for next_node in graph[start]-visited:  #방문 안한것\n",
    "        dfs_recursive(graph, next_node, visited)\n",
    "    return visited\n",
    "    \n",
    "def dfs_sw_stack(graph, start):\n",
    "    visited = set()\n",
    "    stack = [start]\n",
    "    while stack:\n",
    "        vertex = stack.pop()\n",
    "        if vertex not in visited:\n",
    "            visited.add(vertex)\n",
    "            stack.extend(graph[vertex] - visited)\n",
    "    return visited\n",
    "    \n",
    "def bfs_sw_queue(graph, start):\n",
    "    visited = set()\n",
    "    queue = deque([start])\n",
    "    while queue:\n",
    "        vertex = queue.popleft()\n",
    "        if vertex not in visited:\n",
    "            visited.add(vertex)\n",
    "            queue.extend(graph[vertex] - visited)\n",
    "    return visited        \n",
    "\n",
    "def measure_time(func, graph, start_node, iterations):\n",
    "    start_time = time.time()\n",
    "    for _ in range(iterations):\n",
    "        func(graph, start_node)\n",
    "    end_time = time.time()\n",
    "    total_time = end_time - start_time\n",
    "    return 1000000*total_time /iterations\n",
    "\n",
    "graph = create_cote_graph()\n",
    "start_noede = 0\n",
    "iterations = 100000\n",
    "\n",
    "time1 = measure_time(dfs_recursive, graph, start_noede, iterations)\n",
    "print(f\"재귀함수 DFS - {iterations}번 반복: {time1:.10f} 시간\")\n",
    "\n",
    "time2 = measure_time(dfs_sw_stack, graph, start_noede, iterations)\n",
    "print(f\"sw_stack DFS - {iterations}번 반복: {time2:.10f} 시간\")\n",
    "\n",
    "time3 = measure_time(bfs_sw_queue, graph, start_noede, iterations)\n",
    "print(f\"sw_queue BFS - {iterations}번 반복: {time3:.10f} 시간\")"
   ]
  },
  {
   "cell_type": "code",
   "execution_count": null,
   "id": "ce478ae1-f119-41d8-b7a8-b59b43418d30",
   "metadata": {},
   "outputs": [],
   "source": []
  },
  {
   "cell_type": "markdown",
   "id": "e70661be-bd55-4d26-9b7f-406c6589b948",
   "metadata": {},
   "source": [
    "> 백트래킹 "
   ]
  },
  {
   "cell_type": "markdown",
   "id": "dbf0e304-aae1-448d-b9b7-39059c08fe45",
   "metadata": {},
   "source": [
    "## 모든 노드 방문:\n",
    "- DFS\n",
    "- BFS  \n",
    "(완전탐색)\n",
    "## 일부 노드 방문:\n",
    "- 그리드\n",
    "- 백트래킹"
   ]
  },
  {
   "cell_type": "code",
   "execution_count": null,
   "id": "d2cec75d-cefd-4621-ac1e-99129854648f",
   "metadata": {},
   "outputs": [],
   "source": []
  },
  {
   "cell_type": "markdown",
   "id": "456900c8-22d3-4a89-96ce-458eca3c52af",
   "metadata": {},
   "source": [
    "#### 백준 9663번 N-Queen 문제\n",
    "+ 백트래킹 문제"
   ]
  },
  {
   "cell_type": "code",
   "execution_count": 4,
   "id": "1106c39b-b7f6-4f9d-8caf-86ac592f0940",
   "metadata": {},
   "outputs": [
    {
     "name": "stdout",
     "output_type": "stream",
     "text": [
      "2\n"
     ]
    }
   ],
   "source": [
    "def pruning(queen, now_row):\n",
    "    for i in range(now_row):\n",
    "        if queen[i] == queen[now_row] or abs(now_row-i) == abs(queen[now_row] - queen[i]):\n",
    "                            # 열 비교 or 대각선 비교(행과 열)\n",
    "                             # abs() → 절댓값\n",
    "            return False\n",
    "    return True\n",
    "\n",
    "def backtracking(queen, now_row, n):\n",
    "    if now_row == n:\n",
    "        return 1\n",
    "    result = 0\n",
    "    for column in range(n):\n",
    "        queen[now_row] = column\n",
    "        if pruning(queen, now_row):\n",
    "            result += backtracking(queen, now_row+1, n)\n",
    "    return result\n",
    "\n",
    "p = 4\n",
    "queen = [0]* p\n",
    "print(backtracking(queen, 0, p))"
   ]
  },
  {
   "cell_type": "markdown",
   "id": "4e0358f0-a54e-4c6d-9274-15e21eb0d3ee",
   "metadata": {},
   "source": [
    "328쪽\n",
    "동적계획법 수열 점화식 파이썬"
   ]
  },
  {
   "cell_type": "markdown",
   "id": "4ec13f02-e674-4a71-9fc7-2baa15f212d4",
   "metadata": {},
   "source": [
    "## 다익스트라 알고리즘"
   ]
  },
  {
   "cell_type": "code",
   "execution_count": 6,
   "id": "17c466c4-51b8-48db-84b1-07ba2c14d5d4",
   "metadata": {},
   "outputs": [
    {
     "name": "stdin",
     "output_type": "stream",
     "text": [
      " 5 6\n",
      " 1\n",
      " 5 1 1\n",
      " 1 2 2\n",
      " 1 3 3\n",
      " 2 3 4\n",
      " 2 4 5\n",
      " 3 4 6\n"
     ]
    },
    {
     "name": "stdout",
     "output_type": "stream",
     "text": [
      "0\n",
      "2\n",
      "3\n",
      "7\n",
      "INF\n"
     ]
    }
   ],
   "source": [
    "import sys\n",
    "\n",
    "def dijkstra(graph, start):\n",
    "    distance = [sys.maxsize] * len(graph)\n",
    "    distance[start] = 0\n",
    "    visited = [False] * len(graph)\n",
    "    queue = [start]\n",
    "    \n",
    "    while queue:\n",
    "        current_vertex = queue.pop(0)\n",
    "        if visited[current_vertex]:\n",
    "            continue\n",
    "        visited[current_vertex] = True\n",
    "        for neighbor, weight in graph[current_vertex]:\n",
    "            distance_sum = weight + distance[current_vertex]\n",
    "            # 현재 정점을 거쳐서 인접 정점으로 이동하는 거리가 더 짧으면 갱신\n",
    "            if distance_sum < distance[neighbor]:\n",
    "                distance[neighbor] = distance_sum\n",
    "                queue.append(neighbor)\n",
    "    return distance\n",
    "\n",
    "V, E = map(int, input().split())\n",
    "start = int(input())\n",
    "\n",
    "graph = [[] for _ in range(V + 1)]\n",
    "for _ in range(E):\n",
    "    u, v, w = map(int, input().split())\n",
    "    graph[u].append((v, w))\n",
    "\n",
    "distances = dijkstra(graph, start)\n",
    "\n",
    "for i in range(1, V + 1):\n",
    "    if distances[i] == sys.maxsize:\n",
    "        print(\"INF\")\n",
    "    else:\n",
    "        print(distances[i])"
   ]
  },
  {
   "cell_type": "code",
   "execution_count": null,
   "id": "5a7dbf00-44af-4c36-8adf-3d4e7b587bb3",
   "metadata": {},
   "outputs": [],
   "source": []
  }
 ],
 "metadata": {
  "kernelspec": {
   "display_name": "Python 3 (ipykernel)",
   "language": "python",
   "name": "python3"
  },
  "language_info": {
   "codemirror_mode": {
    "name": "ipython",
    "version": 3
   },
   "file_extension": ".py",
   "mimetype": "text/x-python",
   "name": "python",
   "nbconvert_exporter": "python",
   "pygments_lexer": "ipython3",
   "version": "3.12.3"
  }
 },
 "nbformat": 4,
 "nbformat_minor": 5
}
