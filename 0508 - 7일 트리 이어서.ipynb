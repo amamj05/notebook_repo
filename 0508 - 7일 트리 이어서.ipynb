{
 "cells": [
  {
   "cell_type": "markdown",
   "id": "7eac7668-d39d-406c-ab23-a0c771925193",
   "metadata": {},
   "source": [
    "# 트리"
   ]
  },
  {
   "cell_type": "code",
   "execution_count": null,
   "id": "93d9b294-f0d1-4842-8f1f-c4f97582667d",
   "metadata": {},
   "outputs": [],
   "source": []
  },
  {
   "cell_type": "markdown",
   "id": "2c38d851-598b-4955-a60d-9112c86a451a",
   "metadata": {},
   "source": [
    "메모리 소자 회로 dram  \n",
    "백준 11399"
   ]
  },
  {
   "cell_type": "code",
   "execution_count": null,
   "id": "296c8560-c42d-49aa-8f80-2cc40d42974f",
   "metadata": {},
   "outputs": [],
   "source": [
    "index = 4\n",
    "index = index / 2"
   ]
  },
  {
   "cell_type": "code",
   "execution_count": 3,
   "id": "0ebbd2aa-92ce-4066-9082-f435de2c760c",
   "metadata": {},
   "outputs": [
    {
     "data": {
      "text/plain": [
       "2"
      ]
     },
     "execution_count": 3,
     "metadata": {},
     "output_type": "execute_result"
    }
   ],
   "source": [
    "index = 5\n",
    "index = index // 2\n",
    "index"
   ]
  },
  {
   "cell_type": "code",
   "execution_count": 4,
   "id": "15198b51-a068-481a-9013-67d340dc0eea",
   "metadata": {},
   "outputs": [
    {
     "data": {
      "text/plain": [
       "2.5"
      ]
     },
     "execution_count": 4,
     "metadata": {},
     "output_type": "execute_result"
    }
   ],
   "source": [
    "index = 5\n",
    "index = index / 2\n",
    "index"
   ]
  },
  {
   "cell_type": "markdown",
   "id": "79a2b5f2-85be-4a2b-b506-5d4f01105496",
   "metadata": {},
   "source": [
    "# 이진트리"
   ]
  },
  {
   "cell_type": "code",
   "execution_count": 87,
   "id": "a812a545-18ff-45c3-a328-75a54d6bce74",
   "metadata": {},
   "outputs": [
    {
     "data": {
      "text/plain": [
       "(3, None, None)"
      ]
     },
     "execution_count": 87,
     "metadata": {},
     "output_type": "execute_result"
    }
   ],
   "source": [
    "class Node:\n",
    "    def __init__(self, data=None):\n",
    "        self.data = data\n",
    "        self.left = None\n",
    "        self.right = None\n",
    "   \n",
    "    def insert(self, data):\n",
    "        if self.data is None:\n",
    "            self.data = data\n",
    "        else:\n",
    "            if data < self.data:\n",
    "                if self.left is not None:\n",
    "                    self.left.insert(data)\n",
    "                else:\n",
    "                    self.left = Node(data)\n",
    "            elif data > self.data:\n",
    "                if self.right is not None:\n",
    "                    self.right.insert(data)\n",
    "                else:\n",
    "                    self.right = Node(data)\n",
    "            else:\n",
    "                print(\"트리에 이미 있는 값\")\n",
    "\n",
    "\n",
    "root = Node(3)\n",
    "root.data, root.left, root.right"
   ]
  },
  {
   "cell_type": "code",
   "execution_count": 88,
   "id": "0a5fc6f2-f541-4ad1-bdf6-ece18e6f6695",
   "metadata": {},
   "outputs": [],
   "source": [
    "root.insert(1)"
   ]
  },
  {
   "cell_type": "code",
   "execution_count": 89,
   "id": "d137835b-49d6-47b5-848b-ad1bafe55333",
   "metadata": {},
   "outputs": [
    {
     "data": {
      "text/plain": [
       "(3, <__main__.Node at 0x1f90a422120>, None)"
      ]
     },
     "execution_count": 89,
     "metadata": {},
     "output_type": "execute_result"
    }
   ],
   "source": [
    "root.data, root.left, root.right"
   ]
  },
  {
   "cell_type": "code",
   "execution_count": 90,
   "id": "f5f70195-36b2-4a6e-80c5-fe27d2154db9",
   "metadata": {},
   "outputs": [
    {
     "data": {
      "text/plain": [
       "1"
      ]
     },
     "execution_count": 90,
     "metadata": {},
     "output_type": "execute_result"
    }
   ],
   "source": [
    "root.left.data"
   ]
  },
  {
   "cell_type": "code",
   "execution_count": 91,
   "id": "38d69d1b-8455-4860-85c9-064b47cda49f",
   "metadata": {},
   "outputs": [],
   "source": [
    "root.insert(5)"
   ]
  },
  {
   "cell_type": "code",
   "execution_count": 92,
   "id": "9606b9a3-6c09-4ebf-84eb-90e05fc7c9cc",
   "metadata": {},
   "outputs": [
    {
     "data": {
      "text/plain": [
       "(3, <__main__.Node at 0x1f90a422120>, <__main__.Node at 0x1f90b2e2240>)"
      ]
     },
     "execution_count": 92,
     "metadata": {},
     "output_type": "execute_result"
    }
   ],
   "source": [
    "root.data, root.left, root.right"
   ]
  },
  {
   "cell_type": "code",
   "execution_count": 93,
   "id": "0f8936cb-0784-4810-bd48-a6ea1b88ce09",
   "metadata": {
    "scrolled": true
   },
   "outputs": [
    {
     "data": {
      "text/plain": [
       "5"
      ]
     },
     "execution_count": 93,
     "metadata": {},
     "output_type": "execute_result"
    }
   ],
   "source": [
    "root.right.data"
   ]
  },
  {
   "cell_type": "code",
   "execution_count": null,
   "id": "c06c551a-e3a7-46af-83fb-5cc0362f259e",
   "metadata": {},
   "outputs": [],
   "source": []
  },
  {
   "cell_type": "markdown",
   "id": "44ca1e83-1735-4f95-b99f-07350ee00825",
   "metadata": {},
   "source": [
    "##### NodeTraversal"
   ]
  },
  {
   "cell_type": "code",
   "execution_count": null,
   "id": "be0bd1d7-8a52-4c07-81dc-c54fb6350239",
   "metadata": {},
   "outputs": [],
   "source": []
  },
  {
   "cell_type": "code",
   "execution_count": 110,
   "id": "342e252c-f8af-4dec-8621-7c2be25348b9",
   "metadata": {},
   "outputs": [],
   "source": [
    "class NodeTraversal(Node):\n",
    "    def __init__(self, data=None):\n",
    "        super().__init__(data)\n",
    "    # 중위 in-order\n",
    "    def iot(self, root):\n",
    "        res = []\n",
    "        if root:\n",
    "            res = self.iot(root.left)\n",
    "            res.append(root.data)\n",
    "            res += self.iot(root.right)\n",
    "        return res\n",
    "\n",
    "    # 전위 pre-order\n",
    "    def preot(self, root):\n",
    "        res = []\n",
    "        if root:\n",
    "            res.append(root.data)\n",
    "            res += self.preot(root.left)\n",
    "            res += self.preot(root.right)\n",
    "        return res\n",
    "\n",
    "    # 후위 post-order\n",
    "    def postot(self, root):\n",
    "        res = []\n",
    "        if root:\n",
    "            res = self.postot(root.left)\n",
    "            res += self.postot(root.right)\n",
    "            res.append(root.data)\n",
    "        return res"
   ]
  },
  {
   "cell_type": "code",
   "execution_count": 77,
   "id": "4addc572-ff61-4ad3-8731-2931ad0350e7",
   "metadata": {},
   "outputs": [
    {
     "data": {
      "text/plain": [
       "(3, None, None)"
      ]
     },
     "execution_count": 77,
     "metadata": {},
     "output_type": "execute_result"
    }
   ],
   "source": []
  },
  {
   "cell_type": "code",
   "execution_count": 111,
   "id": "1d209717-6b7b-4df5-aaff-5156b30ec0d1",
   "metadata": {},
   "outputs": [],
   "source": [
    "root= NodeTraversal(27)\n",
    "root.insert(7)\n",
    "root.insert(14)\n",
    "root.insert(35)\n",
    "root.insert(42)\n",
    "root.insert(21)"
   ]
  },
  {
   "cell_type": "code",
   "execution_count": 103,
   "id": "5db86e93-59b4-473c-bd71-c3abfb75d98b",
   "metadata": {},
   "outputs": [
    {
     "data": {
      "text/plain": [
       "[7, 14, 21, 27, 35, 42]"
      ]
     },
     "execution_count": 103,
     "metadata": {},
     "output_type": "execute_result"
    }
   ],
   "source": [
    "# 중위\n",
    "root.iot(root)"
   ]
  },
  {
   "cell_type": "code",
   "execution_count": 112,
   "id": "740d4b0a-4356-40bc-bbd6-32240ef36f4e",
   "metadata": {},
   "outputs": [
    {
     "data": {
      "text/plain": [
       "[27, 7, 14, 21, 35, 42]"
      ]
     },
     "execution_count": 112,
     "metadata": {},
     "output_type": "execute_result"
    }
   ],
   "source": [
    "# 전위\n",
    "root.preot(root)"
   ]
  },
  {
   "cell_type": "code",
   "execution_count": 113,
   "id": "fd750de0-6f85-4372-bf95-ba468ff4b3ad",
   "metadata": {},
   "outputs": [
    {
     "data": {
      "text/plain": [
       "[21, 14, 7, 42, 35, 27]"
      ]
     },
     "execution_count": 113,
     "metadata": {},
     "output_type": "execute_result"
    }
   ],
   "source": [
    "# 후위\n",
    "root.postot(root)"
   ]
  },
  {
   "cell_type": "code",
   "execution_count": null,
   "id": "5f082491-8bf6-4dca-a81d-df066e909642",
   "metadata": {},
   "outputs": [],
   "source": []
  },
  {
   "cell_type": "markdown",
   "id": "d81b5ad3-d807-4b32-ad4a-5fe705e54445",
   "metadata": {},
   "source": [
    "# 백준 1991번 문제  \n",
    "트리순회"
   ]
  },
  {
   "cell_type": "code",
   "execution_count": 114,
   "id": "05047de5-1339-4b8d-8282-5a4e3b4e3ced",
   "metadata": {},
   "outputs": [
    {
     "name": "stdin",
     "output_type": "stream",
     "text": [
      " 7\n",
      " A B C\n",
      " B D .\n",
      " C E F\n",
      " E . .\n",
      " F . G\n",
      " D . .\n",
      " G . .\n"
     ]
    },
    {
     "data": {
      "text/plain": [
       "{'A': ['B', 'C'],\n",
       " 'B': ['D', '.'],\n",
       " 'C': ['E', 'F'],\n",
       " 'E': ['.', '.'],\n",
       " 'F': ['.', 'G'],\n",
       " 'D': ['.', '.'],\n",
       " 'G': ['.', '.']}"
      ]
     },
     "execution_count": 114,
     "metadata": {},
     "output_type": "execute_result"
    }
   ],
   "source": [
    "#  tree 세팅\n",
    "\n",
    "n = int(input())\n",
    "tree = {}\n",
    "for _ in range(n):\n",
    "    root, left, right = input().split()\n",
    "    tree[root] = [left, right]\n",
    "\n",
    "tree"
   ]
  },
  {
   "cell_type": "code",
   "execution_count": 115,
   "id": "f4b625e9-4980-43cf-b218-5ec7706e270a",
   "metadata": {},
   "outputs": [],
   "source": [
    "def preOrder(now):\n",
    "    if now == \".\":\n",
    "        return\n",
    "    print(now, end=\"\")\n",
    "    preOrder(tree[now][0])\n",
    "    preOrder(tree[now][1])\n",
    "\n",
    "def inOrder(now):\n",
    "    if now == \".\":\n",
    "        return\n",
    "    inOrder(tree[now][0])\n",
    "    print(now, end=\"\")\n",
    "    inOrder(tree[now][1])\n",
    "\n",
    "\n",
    "def postOrder(now):\n",
    "    if now == \".\":\n",
    "        return\n",
    "    postOrder(tree[now][0])\n",
    "    postOrder(tree[now][1])\n",
    "    print(now, end=\"\")\n"
   ]
  },
  {
   "cell_type": "code",
   "execution_count": 116,
   "id": "feb85a80-21a9-4087-9268-1ab2e13596f7",
   "metadata": {},
   "outputs": [
    {
     "name": "stdout",
     "output_type": "stream",
     "text": [
      "ABDCEFG"
     ]
    }
   ],
   "source": [
    "preOrder(\"A\")"
   ]
  },
  {
   "cell_type": "code",
   "execution_count": 118,
   "id": "93b8aba2-1ba6-42e5-ad6d-ac547b812351",
   "metadata": {},
   "outputs": [
    {
     "name": "stdout",
     "output_type": "stream",
     "text": [
      "DBAECFG"
     ]
    }
   ],
   "source": [
    "inOrder(\"A\")"
   ]
  },
  {
   "cell_type": "code",
   "execution_count": 119,
   "id": "b5810ac5-5df5-4060-ad7f-22fa38def1e7",
   "metadata": {},
   "outputs": [
    {
     "name": "stdout",
     "output_type": "stream",
     "text": [
      "DBEGFCA"
     ]
    }
   ],
   "source": [
    "postOrder(\"A\")"
   ]
  },
  {
   "cell_type": "code",
   "execution_count": null,
   "id": "ed45ac89-567d-4345-8c90-9a0c4c08f8ea",
   "metadata": {},
   "outputs": [],
   "source": []
  },
  {
   "cell_type": "code",
   "execution_count": 120,
   "id": "e55eb817-d63d-49de-a526-9847755a6733",
   "metadata": {},
   "outputs": [
    {
     "data": {
      "text/plain": [
       "16.0"
      ]
     },
     "execution_count": 120,
     "metadata": {},
     "output_type": "execute_result"
    }
   ],
   "source": [
    "class Node:\n",
    "    def __init__(self, value):\n",
    "        self.value = value\n",
    "        self.left = None\n",
    "        self.right = None\n",
    "def compute(root):\n",
    "    if root.value == \"+\":\n",
    "        return compute(root.left) + compute(root.right)\n",
    "    elif root.value == \"-\":\n",
    "        return compute(root.left) - compute(root.right)\n",
    "    elif root.value == \"*\":\n",
    "        return compute(root.left) * compute(root.right)\n",
    "    elif root.value == \"/\":\n",
    "        return compute(root.left) / compute(root.right)\n",
    "    else:\n",
    "        return float(root.value)\n",
    "\n",
    "root = Node('*')\n",
    "root.left = Node(\"+\")\n",
    "root.left.left = Node(\"5\")\n",
    "root.left.right = Node(\"3\")\n",
    "root.right = Node(\"2\")\n",
    "compute(root)"
   ]
  },
  {
   "cell_type": "markdown",
   "id": "043a3a2a-4b9e-4e6f-ba75-3f8ff17a8e03",
   "metadata": {},
   "source": [
    "# 이진탐색\n",
    "binary search"
   ]
  },
  {
   "cell_type": "markdown",
   "id": "715ada60-1f85-490d-8420-b54ced3cd135",
   "metadata": {},
   "source": [
    "백준 1920번"
   ]
  },
  {
   "cell_type": "code",
   "execution_count": null,
   "id": "f51676f2-8f5d-4220-891f-1d5b3da7aa03",
   "metadata": {},
   "outputs": [],
   "source": [
    "aa = [4,1,5,2,3] \n",
    "numToFind = 9\n",
    "res = 0\n",
    "for num in a:\n",
    "    if num == numToFind:\n",
    "        res = 1\n",
    "        break\n",
    "\n",
    "print(res)"
   ]
  },
  {
   "cell_type": "code",
   "execution_count": null,
   "id": "ae7df920-50e8-4a3c-9c43-8ee5e4081d73",
   "metadata": {},
   "outputs": [],
   "source": [
    "n = int(input())\n",
    "a = list(map(int, input().split()))\n",
    "a.sort"
   ]
  },
  {
   "cell_type": "code",
   "execution_count": null,
   "id": "9e1b1971-6b3a-401e-8b13-67e8e11862c7",
   "metadata": {},
   "outputs": [],
   "source": [
    "m = int(input())\n",
    "\n",
    "target_list = list  # 여기 못적음\n",
    "\n",
    "for i in range(m):\n",
    "    find = False\n",
    "    target = target_list[i]\n",
    "\n",
    "    start = 0\n",
    "    end = len(a) -1\n",
    "    while start <= end:\n",
    "        md_i = (start + end) // 2\n",
    "        md_v = a[md_i]\n",
    "        if md_v > target:\n",
    "            end = md_i -1\n",
    "        elif md_v < target:\n",
    "            start = md_i + 1\n",
    "        else:\n",
    "            find = True\n",
    "            break\n",
    "    if find:\n",
    "        print(1)\n",
    "    else:\n",
    "        print(0)"
   ]
  },
  {
   "cell_type": "code",
   "execution_count": null,
   "id": "4aac8478-9d35-4d7a-85ed-55fd0f193e63",
   "metadata": {},
   "outputs": [],
   "source": []
  },
  {
   "cell_type": "code",
   "execution_count": 2,
   "id": "83310ec2-027d-4af4-883d-0a6718207065",
   "metadata": {},
   "outputs": [],
   "source": [
    "class NodeSearch:\n",
    "    def __init__(self, value):\n",
    "        self.value = value\n",
    "        self.left = None\n",
    "        self.right = None\n",
    "\n",
    "    def insert(self, data):\n",
    "        if self.data is None:\n",
    "            self.data = data\n",
    "        else:\n",
    "            if data < self.data:\n",
    "                if self.left is not None:\n",
    "                    self.left.insert(data)\n",
    "                else:\n",
    "                    self.left = NodeSearch(data)\n",
    "            elif data > self.data:\n",
    "                if self.right is not None:\n",
    "                    self.right.insert(data)\n",
    "                else:\n",
    "                    self.right = NodeSearch(data)\n",
    "            else:\n",
    "                print(\"트리에 이미 있는 값\")\n",
    "\n",
    "    def search(self, value):\n",
    "        if value < self.data:\n",
    "            if self.left is None:\n",
    "                return f\"{value}없음\"\n",
    "            return self.left.search(value)\n",
    "        elif value > self.data:\n",
    "            if self.right is None:\n",
    "                return f\"{value}없음\"\n",
    "            return self.right.search(value)\n",
    "        else:\n",
    "            return f\"{value}찾음\"\n",
    "            "
   ]
  },
  {
   "cell_type": "code",
   "execution_count": 3,
   "id": "9e4eb97e-f069-43b8-9f8f-4dbf790589a0",
   "metadata": {},
   "outputs": [
    {
     "ename": "AttributeError",
     "evalue": "'NodeSearch' object has no attribute 'data'",
     "output_type": "error",
     "traceback": [
      "\u001b[1;31m---------------------------------------------------------------------------\u001b[0m",
      "\u001b[1;31mAttributeError\u001b[0m                            Traceback (most recent call last)",
      "Cell \u001b[1;32mIn[3], line 2\u001b[0m\n\u001b[0;32m      1\u001b[0m root \u001b[38;5;241m=\u001b[39m NodeSearch(\u001b[38;5;241m3\u001b[39m)\n\u001b[1;32m----> 2\u001b[0m root\u001b[38;5;241m.\u001b[39minsert(\u001b[38;5;241m1\u001b[39m)\n\u001b[0;32m      3\u001b[0m root\u001b[38;5;241m.\u001b[39minsert(\u001b[38;5;241m-\u001b[39m\u001b[38;5;241m10\u001b[39m)\n\u001b[0;32m      4\u001b[0m root\u001b[38;5;241m.\u001b[39minsert(\u001b[38;5;241m5\u001b[39m)\n",
      "Cell \u001b[1;32mIn[2], line 8\u001b[0m, in \u001b[0;36mNodeSearch.insert\u001b[1;34m(self, data)\u001b[0m\n\u001b[0;32m      7\u001b[0m \u001b[38;5;28;01mdef\u001b[39;00m \u001b[38;5;21minsert\u001b[39m(\u001b[38;5;28mself\u001b[39m, data):\n\u001b[1;32m----> 8\u001b[0m     \u001b[38;5;28;01mif\u001b[39;00m \u001b[38;5;28mself\u001b[39m\u001b[38;5;241m.\u001b[39mdata \u001b[38;5;129;01mis\u001b[39;00m \u001b[38;5;28;01mNone\u001b[39;00m:\n\u001b[0;32m      9\u001b[0m         \u001b[38;5;28mself\u001b[39m\u001b[38;5;241m.\u001b[39mdata \u001b[38;5;241m=\u001b[39m data\n\u001b[0;32m     10\u001b[0m     \u001b[38;5;28;01melse\u001b[39;00m:\n",
      "\u001b[1;31mAttributeError\u001b[0m: 'NodeSearch' object has no attribute 'data'"
     ]
    }
   ],
   "source": [
    "root = NodeSearch(3)\n",
    "root.insert(1)\n",
    "root.insert(-10)\n",
    "root.insert(5)\n",
    "root.insert(4)\n",
    "\n",
    "root.search(1), root.search(-10), root.search(4), root.search(7) "
   ]
  },
  {
   "cell_type": "code",
   "execution_count": null,
   "id": "198d2aed-2ca9-4902-ae86-1782405873eb",
   "metadata": {},
   "outputs": [],
   "source": []
  }
 ],
 "metadata": {
  "kernelspec": {
   "display_name": "Python 3 (ipykernel)",
   "language": "python",
   "name": "python3"
  },
  "language_info": {
   "codemirror_mode": {
    "name": "ipython",
    "version": 3
   },
   "file_extension": ".py",
   "mimetype": "text/x-python",
   "name": "python",
   "nbconvert_exporter": "python",
   "pygments_lexer": "ipython3",
   "version": "3.12.3"
  }
 },
 "nbformat": 4,
 "nbformat_minor": 5
}
