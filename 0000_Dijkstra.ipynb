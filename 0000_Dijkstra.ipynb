{
 "cells": [
  {
   "cell_type": "markdown",
   "id": "67018819-900a-47ae-a6cc-55b80df7f608",
   "metadata": {},
   "source": [
    "## 다익스트라 알고리즘"
   ]
  },
  {
   "cell_type": "code",
   "execution_count": 1,
   "id": "6bb508eb-2a1a-4494-9d4e-48f567339232",
   "metadata": {},
   "outputs": [
    {
     "name": "stdin",
     "output_type": "stream",
     "text": [
      " 5 6\n",
      " 1\n",
      " 5 1 1\n",
      " 1 2 2\n",
      " 1 3 3\n",
      " 2 3 4\n",
      " 2 4 5\n",
      " 3 4 6\n"
     ]
    },
    {
     "name": "stdout",
     "output_type": "stream",
     "text": [
      "0\n",
      "2\n",
      "3\n",
      "7\n",
      "INF\n"
     ]
    }
   ],
   "source": [
    "import sys\n",
    "\n",
    "def dijkstra(graph, start):\n",
    "    distance = [sys.maxsize] * len(graph)\n",
    "    distance[start] = 0\n",
    "    visited = [False] * len(graph)\n",
    "    queue = [start]\n",
    "    \n",
    "    while queue:\n",
    "        current_vertex = queue.pop(0)\n",
    "        if visited[current_vertex]:\n",
    "            continue\n",
    "        visited[current_vertex] = True\n",
    "        for neighbor, weight in graph[current_vertex]:\n",
    "            distance_sum = weight + distance[current_vertex]\n",
    "            # 현재 정점을 거쳐서 인접 정점으로 이동하는 거리가 더 짧으면 갱신\n",
    "            if distance_sum < distance[neighbor]:\n",
    "                distance[neighbor] = distance_sum\n",
    "                queue.append(neighbor)\n",
    "    return distance\n",
    "\n",
    "V, E = map(int, input().split())\n",
    "start = int(input())\n",
    "\n",
    "graph = [[] for _ in range(V + 1)]\n",
    "for _ in range(E):\n",
    "    u, v, w = map(int, input().split())\n",
    "    graph[u].append((v, w))\n",
    "\n",
    "distances = dijkstra(graph, start)\n",
    "\n",
    "for i in range(1, V + 1):\n",
    "    if distances[i] == sys.maxsize:\n",
    "        print(\"INF\")\n",
    "    else:\n",
    "        print(distances[i])"
   ]
  },
  {
   "cell_type": "code",
   "execution_count": null,
   "id": "a47d571b-011e-4cec-9ef5-edecb93b417e",
   "metadata": {},
   "outputs": [],
   "source": []
  }
 ],
 "metadata": {
  "kernelspec": {
   "display_name": "Python 3 (ipykernel)",
   "language": "python",
   "name": "python3"
  },
  "language_info": {
   "codemirror_mode": {
    "name": "ipython",
    "version": 3
   },
   "file_extension": ".py",
   "mimetype": "text/x-python",
   "name": "python",
   "nbconvert_exporter": "python",
   "pygments_lexer": "ipython3",
   "version": "3.12.3"
  }
 },
 "nbformat": 4,
 "nbformat_minor": 5
}
