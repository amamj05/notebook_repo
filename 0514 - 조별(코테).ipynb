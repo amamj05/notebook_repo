{
 "cells": [
  {
   "cell_type": "markdown",
   "id": "25b689df-3a9d-4de8-a602-4b2daff5c8cf",
   "metadata": {},
   "source": [
    "## 다른 분들 백준\n",
    "\n",
    "나 \n",
    "- 1544번\n",
    "- 14725\n",
    "- 1655 는 정답률 30퍼\n",
    "\n",
    "조민성님\n",
    "- 2750 수 정렬하기\n",
    "- 2485 키순서\n",
    "- 2178 미로탐색\n",
    "\n",
    "배다은님\n",
    "- 1260\n",
    "- 2675\n",
    "- 3003\n",
    "- 24480\n",
    "\n",
    "서재민님\n",
    "- 10807\n",
    "- 11399"
   ]
  },
  {
   "cell_type": "markdown",
   "id": "6c2d7002-99a9-41ae-97f6-702d10f687c2",
   "metadata": {},
   "source": [
    "## 백준 1544 번\n",
    "\n",
    "dfs bfs  \n",
    "https://devuna.tistory.com/32\n",
    "\n",
    "원형큐  \n",
    "https://codingsmu.tistory.com/123"
   ]
  },
  {
   "cell_type": "code",
   "execution_count": null,
   "id": "29a21f33-3fff-43c2-80bc-d0c9062df389",
   "metadata": {},
   "outputs": [],
   "source": [
    "# 원형큐\n",
    "\n",
    "class CircleQueue:\n",
    "    rear = 0\n",
    "    front = 0\n",
    "    MAX_SIZE = 100\n",
    "    queue = list()\n",
    "\n",
    "    #초기화\n",
    "    def __init__(self):\n",
    "    \tself.rear = 0\n",
    "        self.front = 0\n",
    "        self.queue = [0 for i in range(self.MAXSIZE)]\n",
    "    \n",
    "    # 공백\n",
    "    def is_empty(self):\n",
    "    \tif self.rear == self.front:\n",
    "        \treturn True\n",
    "        return False\n",
    "\n",
    "    \n",
    "    # 포화\n",
    "    def is_full(self):\n",
    "    \tif (self.rear+1)%self.MAX_SIZE == self.front:\n",
    "        \treturn True\n",
    "        return False\n",
    "\n",
    "    \n",
    "    # 삽입\n",
    "    def enqueue(self, x):\n",
    "    \tif is_full():\n",
    "        \tprint(\"ERROR: FULL\")\n",
    "            return\n",
    "        self.rear = (self.rear+1)%(self.MAX_SIZE)\n",
    "        self.queue[self.rear] = x\n",
    "\n",
    "    \n",
    "    # 삭제\n",
    "    def dequeue(self):\n",
    "    \tif is_empty():\n",
    "        \tprint(\"ERROR: EMPTY\")\n",
    "            return\n",
    "        self.front = (self.front +1) % MAX_SIZE\n",
    "        return self.queue[self.front]\n",
    "\n",
    "    \n",
    "    # 현재 큐에 저장된 요소 출력\n",
    "    def queue_print(self):\n",
    "    \ti = self.front\n",
    "        if is_empty():\n",
    "        \tprint(\"EMPTY QUEUE\")\n",
    "            return\n",
    "        while True:\n",
    "        \ti = (i+1) % self.MAX_SIZE\n",
    "            print(self.queue[i], ' ')\n",
    "            if i == self.rear:\n",
    "            \tbreak"
   ]
  },
  {
   "cell_type": "code",
   "execution_count": null,
   "id": "6ed3e537-07a6-4cc8-b399-c8f885750390",
   "metadata": {},
   "outputs": [],
   "source": [
    "# 원형큐\n",
    "\n",
    "class O_Queue:\n",
    "    rear = 0\n",
    "    front = 0\n",
    "    max_index = 100\n",
    "    queue = list()\n",
    "    #초기화\n",
    "    def __init__(self):\n",
    "    \tself.rear = 0\n",
    "        self.front = 0\n",
    "        self.queue = [0 for i in range(self.max_index)]    \n",
    "    # 공백\n",
    "    def zero(self):\n",
    "    \tif self.rear == self.front:\n",
    "        \treturn True\n",
    "        return False  \n",
    "    # 포화\n",
    "    def full(self):\n",
    "    \tif (self.rear+1)%self.max_index == self.front:\n",
    "        \treturn True\n",
    "        return False \n",
    "    # 삽입\n",
    "    def enqueue(self, x):\n",
    "    \tif full():\n",
    "        \tprint(\"ERROR: FULL\")\n",
    "            return\n",
    "        self.rear = (self.rear+1)%(self.max_index)\n",
    "        self.queue[self.rear] = x\n",
    "    # 삭제\n",
    "    def dequeue(self):\n",
    "    \tif zero():\n",
    "        \tprint(\"ERROR: EMPTY\")\n",
    "            return\n",
    "        self.front = (self.front +1) % max_index\n",
    "        return self.queue[self.front]\n",
    "    # 현재 큐에 저장된 요소 출력\n",
    "    def queueShow(self):\n",
    "    \ti = self.front\n",
    "        if zero():\n",
    "        \tprint(\"EMPTY QUEUE\")\n",
    "            return\n",
    "        while True:\n",
    "        \ti = (i+1) % self.max_index\n",
    "            print(self.queue[i], ' ')\n",
    "            if i == self.rear:\n",
    "            \tbreak"
   ]
  },
  {
   "cell_type": "code",
   "execution_count": null,
   "id": "8c8235ec-a5d9-40ac-8094-e82bda9db1f4",
   "metadata": {},
   "outputs": [],
   "source": [
    "\n",
    "class O_Queue:\n",
    "    rear = 0\n",
    "    front = 0\n",
    "    max_index = 100\n",
    "    queue = list()\n",
    "    def __init__(self):\n",
    "    \tself.rear = 0\n",
    "        self.front = 0\n",
    "        self.queue = [0 for i in range(self.max_index)]    \n",
    "    # 공백\n",
    "    def zero(self):\n",
    "    \tif self.rear == self.front:\n",
    "        \treturn True\n",
    "        return False  \n",
    "    # 포화\n",
    "    def full(self):\n",
    "    \tif (self.rear+1)%self.max_index == self.front:\n",
    "        \treturn True\n",
    "        return False \n",
    "    def enqueue(self, x):\n",
    "        if full():\n",
    "            print(\"ERROR: FULL\")\n",
    "            return\n",
    "        self.rear = (self.rear+1)%(self.max_index)\n",
    "        self.queue[self.rear] = x\n",
    "\n",
    "\n",
    "\n",
    "\n",
    "\n"
   ]
  },
  {
   "cell_type": "code",
   "execution_count": 1,
   "id": "65cce0da-4eaa-415d-9bcd-49aa827390a7",
   "metadata": {},
   "outputs": [
    {
     "name": "stdin",
     "output_type": "stream",
     "text": [
      " 2\n",
      " picture\n",
      " pictur\n"
     ]
    },
    {
     "name": "stdout",
     "output_type": "stream",
     "text": [
      "deque([[['picture']], [['pictur']]])\n"
     ]
    }
   ],
   "source": [
    "from collections import deque\n",
    "\n",
    "# a = deque([])\n",
    "count = 0\n",
    "n = int(input())\n",
    "a = deque([(input().split())] for i in range(n))\n",
    "# for i in range(n):\n",
    "#     for j in range(i, n):\n",
    "#         if a[i]!=a[j]:\n",
    "#             print(a[i])\n",
    "#             print(a[j])\n",
    "#             count += 1\n",
    "\n",
    "print(a)"
   ]
  },
  {
   "cell_type": "code",
   "execution_count": 6,
   "id": "c1cd3b39-e7f1-49aa-b2c8-6c396c20e147",
   "metadata": {},
   "outputs": [
    {
     "data": {
      "text/plain": [
       "[['picture']]"
      ]
     },
     "execution_count": 6,
     "metadata": {},
     "output_type": "execute_result"
    }
   ],
   "source": [
    "a"
   ]
  },
  {
   "cell_type": "code",
   "execution_count": 7,
   "id": "abc333d7-ab77-473f-ab09-777187b6e91b",
   "metadata": {},
   "outputs": [
    {
     "data": {
      "text/plain": [
       "['picture']"
      ]
     },
     "execution_count": 7,
     "metadata": {},
     "output_type": "execute_result"
    }
   ],
   "source": [
    "a[0]"
   ]
  },
  {
   "cell_type": "code",
   "execution_count": null,
   "id": "ea8e7ae8-7ee1-441d-aefd-ec949fbcebd9",
   "metadata": {},
   "outputs": [],
   "source": [
    "class Queue:\n",
    "    rear = 0\n",
    "    front = 0\n",
    "    max_index = 50\n",
    "    queue = list()"
   ]
  },
  {
   "cell_type": "code",
   "execution_count": 32,
   "id": "3e76a20c-761b-467d-ad53-69aabea3851a",
   "metadata": {},
   "outputs": [
    {
     "name": "stdin",
     "output_type": "stream",
     "text": [
      " 2\n",
      " picture\n",
      " pictur\n"
     ]
    },
    {
     "name": "stdout",
     "output_type": "stream",
     "text": [
      "deque(['p', 'i', 'c', 't', 'u', 'r', 'e', 'p', 'i', 'c', 't', 'u', 'r'])\n"
     ]
    }
   ],
   "source": [
    "from collections import deque\n",
    "\n",
    "q = deque([])\n",
    "a = 0\n",
    "n = int(input())\n",
    "for j in range(n):\n",
    "    s = input()\n",
    "    for i in range(len(s)):\n",
    "        q.append(s[i])  #함수 필요\n",
    "    # a += 1\n",
    "\n",
    "print(q)"
   ]
  },
  {
   "cell_type": "code",
   "execution_count": 12,
   "id": "307613d4-1dfb-482c-b025-8e84ccd69a7f",
   "metadata": {},
   "outputs": [
    {
     "data": {
      "text/plain": [
       "['picture', 'pictur']"
      ]
     },
     "execution_count": 12,
     "metadata": {},
     "output_type": "execute_result"
    }
   ],
   "source": [
    "s"
   ]
  },
  {
   "cell_type": "code",
   "execution_count": 6,
   "id": "906c2c9d-ed1e-41d3-a50a-45b2b7d0eec0",
   "metadata": {},
   "outputs": [
    {
     "data": {
      "text/plain": [
       "'picture'"
      ]
     },
     "execution_count": 6,
     "metadata": {},
     "output_type": "execute_result"
    }
   ],
   "source": [
    "# class Queue:\n",
    "#     def __init__(self):\n",
    "#         self.queue = list()"
   ]
  },
  {
   "cell_type": "code",
   "execution_count": 33,
   "id": "e59b7184-b93b-4699-8f24-c09abf32c52c",
   "metadata": {},
   "outputs": [
    {
     "name": "stdin",
     "output_type": "stream",
     "text": [
      " 5\n",
      " picture\n",
      " turepic\n",
      " icturep\n",
      " word\n",
      " ordw\n"
     ]
    },
    {
     "name": "stdout",
     "output_type": "stream",
     "text": [
      "[deque(['p', 'i', 'c', 't', 'u', 'r', 'e']), deque(['t', 'u', 'r', 'e', 'p', 'i', 'c']), deque(['i', 'c', 't', 'u', 'r', 'e', 'p']), deque(['w', 'o', 'r', 'd']), deque(['o', 'r', 'd', 'w'])]\n"
     ]
    }
   ],
   "source": [
    "# 윗부분\n",
    "\n",
    "from collections import deque\n",
    "\n",
    "Queue = []\n",
    "a = 0\n",
    "n = int(input())\n",
    "for j in range(n):\n",
    "    s = input()\n",
    "    q = deque([])\n",
    "    for i in range(len(s)):\n",
    "        q.append(s[i])\n",
    "    Queue.append(q)\n",
    "    # 함수 필요\n",
    "\n",
    "print(Queue)"
   ]
  },
  {
   "cell_type": "code",
   "execution_count": 36,
   "id": "a7a8924c-820f-43c0-9be9-d6ae3fd37a13",
   "metadata": {},
   "outputs": [
    {
     "data": {
      "text/plain": [
       "deque(['p', 'i', 'c', 't', 'u', 'r', 'e'])"
      ]
     },
     "execution_count": 36,
     "metadata": {},
     "output_type": "execute_result"
    }
   ],
   "source": [
    "Queue[0]"
   ]
  },
  {
   "cell_type": "code",
   "execution_count": 47,
   "id": "0cf719ee-7584-441a-aa95-08dbe9a5be4f",
   "metadata": {},
   "outputs": [
    {
     "name": "stdout",
     "output_type": "stream",
     "text": [
      "deque(['r', 'e', 'p', 'i', 'c', 't', 'u'])\n"
     ]
    }
   ],
   "source": [
    "from collections import deque\n",
    "\n",
    "Queue[0].rotate(1)\n",
    "print(Queue[0])"
   ]
  },
  {
   "cell_type": "code",
   "execution_count": null,
   "id": "1d4e3f11-7faa-4012-85ca-5017aebe516a",
   "metadata": {},
   "outputs": [],
   "source": []
  },
  {
   "cell_type": "code",
   "execution_count": 32,
   "id": "ad5ad579-bcf6-4608-8426-bfb60e854fa5",
   "metadata": {},
   "outputs": [
    {
     "name": "stdout",
     "output_type": "stream",
     "text": [
      "deque(['e', 'p', 'i', 'c', 't', 'u', 'r'])\n",
      "deque(['r', 'e', 'p', 'i', 'c', 't', 'u'])\n",
      "deque(['u', 'r', 'e', 'p', 'i', 'c', 't'])\n",
      "deque(['t', 'u', 'r', 'e', 'p', 'i', 'c'])\n",
      "deque(['c', 't', 'u', 'r', 'e', 'p', 'i'])\n",
      "deque(['i', 'c', 't', 'u', 'r', 'e', 'p'])\n",
      "deque(['p', 'i', 'c', 't', 'u', 'r', 'e'])\n",
      "1\n"
     ]
    }
   ],
   "source": [
    "\n",
    "\n",
    "count = 0\n",
    "testQueue = [deque(['p', 'i', 'c', 't', 'u', 'r', 'e']), deque(['t', 'u', 'r', 'e', 'p', 'i', 'c']), deque(['i', 'c', 't', 'u', 'r', 'e', 'p']), deque(['w', 'o', 'r', 'd']), deque(['o', 'r', 'd', 'w'])]\n",
    "\n",
    "for t in range(len(testQueue[0])):\n",
    "    inQueue = testQueue[0]\n",
    "    inQueue.rotate(1)\n",
    "    print(inQueue)\n",
    "    if inQueue == testQueue[1]:\n",
    "        count = count + 1\n",
    "    # print(count)\n",
    "        # break\n",
    "\n",
    "print(count)\n"
   ]
  },
  {
   "cell_type": "code",
   "execution_count": 17,
   "id": "6cc8d47c-4687-4cc2-84be-ab6a84f7eb6f",
   "metadata": {},
   "outputs": [
    {
     "data": {
      "text/plain": [
       "7"
      ]
     },
     "execution_count": 17,
     "metadata": {},
     "output_type": "execute_result"
    }
   ],
   "source": [
    "len(testQueue[0])"
   ]
  },
  {
   "cell_type": "code",
   "execution_count": 47,
   "id": "872a7f21-012b-4b95-ac7c-3b1441eb4983",
   "metadata": {},
   "outputs": [
    {
     "name": "stdout",
     "output_type": "stream",
     "text": [
      "2\n"
     ]
    }
   ],
   "source": [
    "# 아랫부분\n",
    "\n",
    "count = 0\n",
    "point = 0\n",
    "testQueue = [deque(['p', 'i', 'c', 't', 'u', 'r', 'e']), deque(['t', 'u', 'r', 'e', 'p', 'i', 'c']), deque(['i', 'c', 't', 'u', 'r', 'e', 'p']), deque(['w', 'o', 'r', 'd']), deque(['o', 'r', 'd', 'w'])]\n",
    "\n",
    "for all in range(len(testQueue)):\n",
    "    for t in range(all, len(testQueue[0+point])):\n",
    "        inQueue = testQueue[0+point]\n",
    "        inQueue.rotate(1)\n",
    "        # print(inQueue)\n",
    "        if inQueue == testQueue[-1]:\n",
    "            count = count + 1\n",
    "        elif inQueue == testQueue[0+point+1]:\n",
    "            count = count + 1\n",
    "    point = point + 1\n",
    "\n",
    "print(count)\n"
   ]
  },
  {
   "cell_type": "code",
   "execution_count": 36,
   "id": "4e976e94-9f5c-4d28-9ce0-cbb3af49c854",
   "metadata": {},
   "outputs": [
    {
     "data": {
      "text/plain": [
       "5"
      ]
     },
     "execution_count": 36,
     "metadata": {},
     "output_type": "execute_result"
    }
   ],
   "source": [
    "len(testQueue)"
   ]
  },
  {
   "cell_type": "markdown",
   "id": "0645b9e6-bb89-4f20-bea3-7e74129b40b8",
   "metadata": {},
   "source": [
    "# 예제 1번 안되는중"
   ]
  },
  {
   "cell_type": "code",
   "execution_count": 106,
   "id": "6f926dba-f533-4667-a018-4ee376927ff2",
   "metadata": {},
   "outputs": [
    {
     "name": "stdin",
     "output_type": "stream",
     "text": [
      " 5\n",
      " picture\n",
      " turepic\n",
      " icturep\n",
      " word\n",
      " ordw\n"
     ]
    },
    {
     "name": "stdout",
     "output_type": "stream",
     "text": [
      "deque(['p', 'i', 'c', 't', 'u', 'r', 'e'])\n"
     ]
    },
    {
     "ename": "IndexError",
     "evalue": "list index out of range",
     "output_type": "error",
     "traceback": [
      "\u001b[1;31m---------------------------------------------------------------------------\u001b[0m",
      "\u001b[1;31mIndexError\u001b[0m                                Traceback (most recent call last)",
      "Cell \u001b[1;32mIn[106], line 28\u001b[0m\n\u001b[0;32m     26\u001b[0m         \u001b[38;5;28;01mif\u001b[39;00m inQueue \u001b[38;5;241m==\u001b[39m Queue[\u001b[38;5;241m-\u001b[39m\u001b[38;5;241m1\u001b[39m]:\n\u001b[0;32m     27\u001b[0m             count \u001b[38;5;241m=\u001b[39m count \u001b[38;5;241m+\u001b[39m \u001b[38;5;241m1\u001b[39m\n\u001b[1;32m---> 28\u001b[0m         \u001b[38;5;28;01melif\u001b[39;00m inQueue \u001b[38;5;241m==\u001b[39m Queue[\u001b[38;5;241m0\u001b[39m\u001b[38;5;241m+\u001b[39mall_2]:  \u001b[38;5;66;03m#여기 1번 안됨 t랑 all_2랑\u001b[39;00m\n\u001b[0;32m     29\u001b[0m             count \u001b[38;5;241m=\u001b[39m count \u001b[38;5;241m+\u001b[39m \u001b[38;5;241m1\u001b[39m\n\u001b[0;32m     30\u001b[0m point \u001b[38;5;241m=\u001b[39m point \u001b[38;5;241m+\u001b[39m \u001b[38;5;241m1\u001b[39m\n",
      "\u001b[1;31mIndexError\u001b[0m: list index out of range"
     ]
    }
   ],
   "source": [
    "from collections import deque\n",
    "\n",
    "Queue = []\n",
    "a = 0\n",
    "n = int(input())\n",
    "for j in range(n):\n",
    "    s = input()\n",
    "    q = deque([])\n",
    "    for i in range(len(s)):\n",
    "        q.append(s[i])\n",
    "    Queue.append(q)\n",
    "\n",
    "# 아랫부분\n",
    "\n",
    "count = 0\n",
    "point = 0\n",
    "\n",
    "for all in range(len(Queue)):\n",
    "    inQueue = Queue[0+point]\n",
    "    print(inQueue)\n",
    "    for t in range(all, len(Queue[0+point])):\n",
    "        \n",
    "        inQueue.rotate(1)\n",
    "        \n",
    "        for all_2 in range(all, t):  #여기 all, t 랑 len(Queue)랑\n",
    "            if inQueue == Queue[-1]:\n",
    "                count = count + 1\n",
    "            elif inQueue == Queue[0+all_2]:  #여기 1번 안됨 t랑 all_2랑\n",
    "                count = count + 1\n",
    "    point = point + 1\n",
    "\n",
    "print(count)\n"
   ]
  },
  {
   "cell_type": "markdown",
   "id": "87f2bb66-9b90-4c8a-afab-38f2e39df612",
   "metadata": {},
   "source": [
    "# 예제 2,3번 풀림 (예제 1만 안됨)"
   ]
  },
  {
   "cell_type": "code",
   "execution_count": 101,
   "id": "148cc1a5-1f19-417b-a79f-89f1e58c5220",
   "metadata": {},
   "outputs": [
    {
     "name": "stdin",
     "output_type": "stream",
     "text": [
      " 5\n",
      " aaaa\n",
      " aaa\n",
      " aa\n",
      " aaaa\n",
      " aaaaa\n"
     ]
    },
    {
     "name": "stdout",
     "output_type": "stream",
     "text": [
      "deque(['a', 'a', 'a', 'a'])\n",
      "deque(['a', 'a', 'a'])\n",
      "deque(['a', 'a'])\n",
      "deque(['a', 'a', 'a', 'a'])\n",
      "deque(['a', 'a', 'a', 'a', 'a'])\n",
      "4\n"
     ]
    }
   ],
   "source": [
    "from collections import deque\n",
    "\n",
    "Queue = []\n",
    "a = 0\n",
    "n = int(input())\n",
    "for j in range(n):\n",
    "    s = input()\n",
    "    q = deque([])\n",
    "    for i in range(len(s)):\n",
    "        q.append(s[i])\n",
    "    Queue.append(q)\n",
    "\n",
    "# 아랫부분\n",
    "\n",
    "count = 0\n",
    "point = 0\n",
    "\n",
    "for all in range(len(Queue)):\n",
    "    inQueue = Queue[0+point]\n",
    "    print(inQueue)\n",
    "    for t in range(all, len(Queue[0+point])):\n",
    "        inQueue.rotate(1)\n",
    "        for all_2 in range(all ,t):  \n",
    "            if inQueue == Queue[-1]:\n",
    "                count = count + 1\n",
    "            elif inQueue == Queue[0+all_2]:  \n",
    "                count = count + 1\n",
    "    point = point + 1\n",
    "\n",
    "print(count)\n"
   ]
  },
  {
   "cell_type": "code",
   "execution_count": 1,
   "id": "c0bf559b-9f62-41fe-b292-89ed7ca0b5e0",
   "metadata": {},
   "outputs": [
    {
     "name": "stdin",
     "output_type": "stream",
     "text": [
      " 5\n",
      " aaaa\n",
      " aaa\n",
      " aa\n",
      " aaaa\n",
      " aaaaa\n"
     ]
    },
    {
     "name": "stdout",
     "output_type": "stream",
     "text": [
      "4\n"
     ]
    }
   ],
   "source": [
    "from collections import deque\n",
    "\n",
    "Queue = []\n",
    "a = 0\n",
    "count = 0\n",
    "point = 0\n",
    "n = int(input())\n",
    "for j in range(n):\n",
    "    s = input()\n",
    "    q = deque([])\n",
    "    for i in range(len(s)):\n",
    "        q.append(s[i])\n",
    "    Queue.append(q)\n",
    "\n",
    "\n",
    "for all in range(len(Queue)):\n",
    "    inQueue = Queue[0+point]\n",
    "    for t in range(all, len(Queue[0+point])):\n",
    "        inQueue.rotate(1)\n",
    "        for all_2 in range(all ,t):  \n",
    "            if inQueue == Queue[-1]:\n",
    "                count = count + 1\n",
    "            elif inQueue == Queue[0+all_2]:  \n",
    "                count = count + 1\n",
    "    point = point + 1\n",
    "\n",
    "print(count)\n"
   ]
  },
  {
   "cell_type": "code",
   "execution_count": null,
   "id": "6dd1945a-6da2-4a5f-87e0-fffa4b808ac1",
   "metadata": {},
   "outputs": [],
   "source": []
  }
 ],
 "metadata": {
  "kernelspec": {
   "display_name": "Python 3 (ipykernel)",
   "language": "python",
   "name": "python3"
  },
  "language_info": {
   "codemirror_mode": {
    "name": "ipython",
    "version": 3
   },
   "file_extension": ".py",
   "mimetype": "text/x-python",
   "name": "python",
   "nbconvert_exporter": "python",
   "pygments_lexer": "ipython3",
   "version": "3.12.3"
  }
 },
 "nbformat": 4,
 "nbformat_minor": 5
}
