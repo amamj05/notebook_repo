{
 "cells": [
  {
   "cell_type": "markdown",
   "id": "827aed6b-1d1a-47ac-a0f2-49356d532711",
   "metadata": {},
   "source": [
    "### https://www.acmicpc.net/problem/2164\n",
    "86쪽 카드문제"
   ]
  },
  {
   "cell_type": "code",
   "execution_count": 4,
   "id": "5ba0b48a-8e13-42ff-aea7-80faf1f0787c",
   "metadata": {},
   "outputs": [
    {
     "ename": "ValueError",
     "evalue": "invalid literal for int() with base 10: ''",
     "output_type": "error",
     "traceback": [
      "\u001b[1;31m---------------------------------------------------------------------------\u001b[0m",
      "\u001b[1;31mValueError\u001b[0m                                Traceback (most recent call last)",
      "Cell \u001b[1;32mIn[4], line 2\u001b[0m\n\u001b[0;32m      1\u001b[0m \u001b[38;5;28;01mfrom\u001b[39;00m \u001b[38;5;21;01mcollections\u001b[39;00m \u001b[38;5;28;01mimport\u001b[39;00m deque\n\u001b[1;32m----> 2\u001b[0m N \u001b[38;5;241m=\u001b[39m \u001b[38;5;28mint\u001b[39m(\u001b[38;5;28minput\u001b[39m())\n\u001b[0;32m      3\u001b[0m myQueue \u001b[38;5;241m=\u001b[39m deque()\n\u001b[0;32m      5\u001b[0m \u001b[38;5;28;01mfor\u001b[39;00m i \u001b[38;5;129;01min\u001b[39;00m \u001b[38;5;28mrange\u001b[39m(\u001b[38;5;241m1\u001b[39m,N\u001b[38;5;241m+\u001b[39m\u001b[38;5;241m1\u001b[39m):\n",
      "\u001b[1;31mValueError\u001b[0m: invalid literal for int() with base 10: ''"
     ]
    }
   ],
   "source": [
    "from collections import deque\n",
    "N = int(input())\n",
    "myQueue = deque()\n",
    "\n",
    "for i in range(1,N+1):\n",
    "    myQueue.append(i)\n",
    "\n",
    "while len(myQueue) > 1:\n",
    "    myQueue.popleft()\n",
    "    myQueue.append(myQueue.popleft())\n",
    "\n",
    "print(myQueue[0])\n",
    "    "
   ]
  },
  {
   "cell_type": "code",
   "execution_count": null,
   "id": "054c6002-d336-48e8-b494-d59c9c762bd0",
   "metadata": {},
   "outputs": [],
   "source": []
  },
  {
   "cell_type": "markdown",
   "id": "2b5994d6-7be7-4d90-bc49-2daf842a63b6",
   "metadata": {},
   "source": [
    "### https://www.acmicpc.net/problem/11286\n",
    "89쪽 절댓값 문제"
   ]
  },
  {
   "cell_type": "markdown",
   "id": "ed869f23-5111-4d34-81bc-bf67713bd4bf",
   "metadata": {},
   "source": [
    "queue 우선 순위"
   ]
  },
  {
   "cell_type": "code",
   "execution_count": 3,
   "id": "27f8e919-6cfd-49a8-8f9a-148c97706b5d",
   "metadata": {},
   "outputs": [
    {
     "name": "stdout",
     "output_type": "stream",
     "text": [
      "(1, 'BAD')\n",
      "(2, 'not good')\n",
      "(3, 'good')\n",
      "(4, 'nice')\n",
      "(5, 'I love it so much')\n",
      "\n",
      " - 우선순위 역순 배치 - \n",
      "\n",
      "(-5, 'I love it so much')\n",
      "(-4, 'nice')\n",
      "(-3, 'good')\n",
      "(-2, 'not good')\n",
      "(-1, 'BAD')\n"
     ]
    }
   ],
   "source": [
    "from queue import PriorityQueue\n",
    "\n",
    "myPQ = PriorityQueue()\n",
    "\n",
    "myPQ.put((1, 'BAD'))\n",
    "myPQ.put((2, 'not good'))\n",
    "myPQ.put((3, 'good'))\n",
    "myPQ.put((4, 'nice'))\n",
    "myPQ.put((5, 'I love it so much'))\n",
    "\n",
    "print(myPQ.get())\n",
    "print(myPQ.get())\n",
    "print(myPQ.get())\n",
    "print(myPQ.get())\n",
    "print(myPQ.get())\n",
    "\n",
    "print(\"\\n - 우선순위 역순 배치 - \\n\")\n",
    "\n",
    "myPQ.put((-1, 'BAD'))\n",
    "myPQ.put((-2, 'not good'))\n",
    "myPQ.put((-3, 'good'))\n",
    "myPQ.put((-4, 'nice'))\n",
    "myPQ.put((-5, 'I love it so much'))\n",
    "\n",
    "print(myPQ.get())\n",
    "print(myPQ.get())\n",
    "print(myPQ.get())\n",
    "print(myPQ.get())\n",
    "print(myPQ.get())"
   ]
  },
  {
   "cell_type": "markdown",
   "id": "5ded0f0c-5e1a-4042-8080-09428dae5b52",
   "metadata": {},
   "source": [
    "## 책 코드"
   ]
  },
  {
   "cell_type": "code",
   "execution_count": 2,
   "id": "d686a0df-ea04-4e73-bd58-848284f59e3c",
   "metadata": {},
   "outputs": [
    {
     "ename": "ValueError",
     "evalue": "invalid literal for int() with base 10: ''",
     "output_type": "error",
     "traceback": [
      "\u001b[1;31m---------------------------------------------------------------------------\u001b[0m",
      "\u001b[1;31mValueError\u001b[0m                                Traceback (most recent call last)",
      "Cell \u001b[1;32mIn[2], line 6\u001b[0m\n\u001b[0;32m      4\u001b[0m show \u001b[38;5;241m=\u001b[39m sys\u001b[38;5;241m.\u001b[39mstdout\u001b[38;5;241m.\u001b[39mwrite\n\u001b[0;32m      5\u001b[0m \u001b[38;5;28minput\u001b[39m \u001b[38;5;241m=\u001b[39m sys\u001b[38;5;241m.\u001b[39mstdin\u001b[38;5;241m.\u001b[39mreadline\n\u001b[1;32m----> 6\u001b[0m Num2 \u001b[38;5;241m=\u001b[39m \u001b[38;5;28mint\u001b[39m(\u001b[38;5;28minput\u001b[39m())\n\u001b[0;32m      7\u001b[0m myQueue2 \u001b[38;5;241m=\u001b[39m PriorityQueue()\n\u001b[0;32m      9\u001b[0m \u001b[38;5;28;01mfor\u001b[39;00m i \u001b[38;5;129;01min\u001b[39;00m \u001b[38;5;28mrange\u001b[39m(Num2):\n",
      "\u001b[1;31mValueError\u001b[0m: invalid literal for int() with base 10: ''"
     ]
    }
   ],
   "source": [
    "from queue import PriorityQueue\n",
    "import sys\n",
    "\n",
    "show = sys.stdout.write\n",
    "input = sys.stdin.readline\n",
    "Num2 = int(input())\n",
    "myQueue2 = PriorityQueue()\n",
    "\n",
    "for i in range(Num2):\n",
    "    request2 = int(input())\n",
    "    if request2 == 0:\n",
    "        if myQueue2.empty():\n",
    "            show('0\\n')\n",
    "        else:\n",
    "            temp = myQueue2.get()\n",
    "            show(str((temp[1]))+'\\n')\n",
    "    else:\n",
    "        myQueue2.put((abs(request), request))\n",
    "            \n",
    "                "
   ]
  },
  {
   "cell_type": "markdown",
   "id": "53bca697-7ae5-4a11-ac3f-ca1f3cd4465a",
   "metadata": {},
   "source": [
    "### 강사님 코드"
   ]
  },
  {
   "cell_type": "code",
   "execution_count": 1,
   "id": "9126a9a5-30aa-4b25-b9e0-b75703fa3041",
   "metadata": {},
   "outputs": [
    {
     "name": "stdin",
     "output_type": "stream",
     "text": [
      " 18\n",
      " 1\n",
      " 1\n",
      " 1\n",
      " 1\n",
      " 1\n",
      " 1\n",
      " 1\n",
      " 1\n",
      " 1\n",
      " 1\n",
      " 1\n",
      " 15\n",
      " 0\n"
     ]
    },
    {
     "name": "stdout",
     "output_type": "stream",
     "text": [
      "print: 1\n",
      "\n"
     ]
    },
    {
     "name": "stdin",
     "output_type": "stream",
     "text": [
      " 5\n",
      " 0\n"
     ]
    },
    {
     "name": "stdout",
     "output_type": "stream",
     "text": [
      "print: 1\n",
      "\n"
     ]
    },
    {
     "name": "stdin",
     "output_type": "stream",
     "text": [
      " 1\n",
      " 0\n"
     ]
    },
    {
     "name": "stdout",
     "output_type": "stream",
     "text": [
      "print: 1\n",
      "\n"
     ]
    },
    {
     "name": "stdin",
     "output_type": "stream",
     "text": [
      " 1\n"
     ]
    }
   ],
   "source": [
    "from queue import PriorityQueue\n",
    "Num3 = int(input())\n",
    "myQueue3 = PriorityQueue()\n",
    "\n",
    "for i in range(Num3):\n",
    "    request3 = int(input())\n",
    "    if request3 == 0:\n",
    "        if myQueue3.empty():\n",
    "            print('0\\n')\n",
    "        else:\n",
    "            temp = myQueue3.get()\n",
    "            print('print: '+str((temp[1]))+'\\n')\n",
    "    else:\n",
    "        myQueue3.put((abs(request3), request3))"
   ]
  },
  {
   "cell_type": "code",
   "execution_count": null,
   "id": "20c7553d-d01e-457e-8414-0124e0629bf7",
   "metadata": {},
   "outputs": [],
   "source": []
  },
  {
   "cell_type": "markdown",
   "id": "aeade061-b8c5-4bf4-8151-22dad6275254",
   "metadata": {},
   "source": [
    "# 다른문제"
   ]
  },
  {
   "cell_type": "code",
   "execution_count": 5,
   "id": "4212add7-0dee-4a25-9e27-359e597db1b5",
   "metadata": {},
   "outputs": [
    {
     "name": "stdout",
     "output_type": "stream",
     "text": [
      "\n"
     ]
    }
   ],
   "source": [
    "# 윤정님 코드\n",
    "\n",
    "sentences = input().split()\n",
    "stack = []\n",
    "\n",
    "for sentence in sentences:\n",
    "    stack.append(sentence)\n",
    "\n",
    "R = [stack.pop() for _ in range(len(stack))]\n",
    "print(\" \".join(R))"
   ]
  },
  {
   "cell_type": "code",
   "execution_count": 6,
   "id": "ab2b8fcd-f792-4364-86aa-6a7e626e8165",
   "metadata": {},
   "outputs": [
    {
     "ename": "ValueError",
     "evalue": "invalid literal for int() with base 10: ''",
     "output_type": "error",
     "traceback": [
      "\u001b[1;31m---------------------------------------------------------------------------\u001b[0m",
      "\u001b[1;31mValueError\u001b[0m                                Traceback (most recent call last)",
      "Cell \u001b[1;32mIn[6], line 3\u001b[0m\n\u001b[0;32m      1\u001b[0m \u001b[38;5;66;03m# 수민님 코드\u001b[39;00m\n\u001b[1;32m----> 3\u001b[0m n \u001b[38;5;241m=\u001b[39m \u001b[38;5;28mint\u001b[39m(\u001b[38;5;28minput\u001b[39m())\n\u001b[0;32m      4\u001b[0m sentences \u001b[38;5;241m=\u001b[39m [\u001b[38;5;28minput\u001b[39m()\u001b[38;5;241m.\u001b[39msplit() \u001b[38;5;28;01mfor\u001b[39;00m _ \u001b[38;5;129;01min\u001b[39;00m \u001b[38;5;28mrange\u001b[39m(n)]\n\u001b[0;32m      6\u001b[0m sentences\n",
      "\u001b[1;31mValueError\u001b[0m: invalid literal for int() with base 10: ''"
     ]
    }
   ],
   "source": [
    "# 수민님 코드\n",
    "\n",
    "n = int(input())\n",
    "sentences = [input().split() for _ in range(n)]\n",
    "\n",
    "sentences\n",
    "\n",
    "myStack = []\n",
    "result = []\n",
    "for sentence in sentences:\n",
    "    myStack.append((\" \".join(word[::1] for word in reversed(sentence))))\n",
    "\n",
    "print(myStack)"
   ]
  },
  {
   "cell_type": "markdown",
   "id": "edc32b4d-1516-40c7-860d-907810dc71a2",
   "metadata": {},
   "source": [
    "### 다른 문제"
   ]
  },
  {
   "cell_type": "code",
   "execution_count": 2,
   "id": "50e5c7cd-2985-4fef-a36c-2a97426c264d",
   "metadata": {},
   "outputs": [
    {
     "name": "stdin",
     "output_type": "stream",
     "text": [
      " 1\n",
      " 5\n"
     ]
    },
    {
     "name": "stdout",
     "output_type": "stream",
     "text": [
      "YES\n"
     ]
    }
   ],
   "source": [
    "def test(s):\n",
    "    stack = []\n",
    "    for ch in s:\n",
    "        if ch == \"(\":\n",
    "            stack.append(ch)\n",
    "        elif ch == \")\":\n",
    "            if not stack:\n",
    "                return False\n",
    "            stack.pop()\n",
    "    return not stack\n",
    "\n",
    "N = int(input())\n",
    "for _ in range(N):\n",
    "    string = input()\n",
    "    if test(string): print(\"YES\")\n",
    "    else: print(\"NO\")"
   ]
  },
  {
   "cell_type": "code",
   "execution_count": null,
   "id": "49b99e34-a83b-458c-80e3-1bb2dffa4e32",
   "metadata": {},
   "outputs": [],
   "source": []
  }
 ],
 "metadata": {
  "kernelspec": {
   "display_name": "Python 3 (ipykernel)",
   "language": "python",
   "name": "python3"
  },
  "language_info": {
   "codemirror_mode": {
    "name": "ipython",
    "version": 3
   },
   "file_extension": ".py",
   "mimetype": "text/x-python",
   "name": "python",
   "nbconvert_exporter": "python",
   "pygments_lexer": "ipython3",
   "version": "3.12.3"
  }
 },
 "nbformat": 4,
 "nbformat_minor": 5
}
