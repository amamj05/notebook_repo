{
 "cells": [
  {
   "cell_type": "markdown",
   "id": "6315f74e-d1b0-441a-a5af-5dce6341b69b",
   "metadata": {},
   "source": [
    "# 쇠막대기 문제"
   ]
  },
  {
   "cell_type": "code",
   "execution_count": 9,
   "id": "9a15c247-699b-455c-aca5-6d91f89575e0",
   "metadata": {},
   "outputs": [
    {
     "name": "stdin",
     "output_type": "stream",
     "text": [
      " 5\n"
     ]
    },
    {
     "ename": "IndexError",
     "evalue": "pop from empty list",
     "output_type": "error",
     "traceback": [
      "\u001b[1;31m---------------------------------------------------------------------------\u001b[0m",
      "\u001b[1;31mIndexError\u001b[0m                                Traceback (most recent call last)",
      "Cell \u001b[1;32mIn[9], line 12\u001b[0m\n\u001b[0;32m     10\u001b[0m             answer \u001b[38;5;241m+\u001b[39m\u001b[38;5;241m=\u001b[39m \u001b[38;5;28mlen\u001b[39m(stack)\n\u001b[0;32m     11\u001b[0m         \u001b[38;5;28;01melse\u001b[39;00m:\n\u001b[1;32m---> 12\u001b[0m             stack\u001b[38;5;241m.\u001b[39mpop()\n\u001b[0;32m     13\u001b[0m             answer \u001b[38;5;241m+\u001b[39m\u001b[38;5;241m=\u001b[39m \u001b[38;5;241m1\u001b[39m\n\u001b[0;32m     15\u001b[0m \u001b[38;5;28mprint\u001b[39m(answer)\n",
      "\u001b[1;31mIndexError\u001b[0m: pop from empty list"
     ]
    }
   ],
   "source": [
    "stack = []\n",
    "answer = 0\n",
    "info = input()\n",
    "\n",
    "for i in range(len(info)):\n",
    "    if info[i] == \"(\": stack.append(\"(\")\n",
    "    else:\n",
    "        if info[i-1] == '(':\n",
    "            stack.pop()\n",
    "            answer += len(stack)\n",
    "        else:\n",
    "            stack.pop()\n",
    "            answer += 1\n",
    "\n",
    "print(answer)"
   ]
  },
  {
   "cell_type": "markdown",
   "id": "cd9b2879-43fa-446b-a385-82a545617cae",
   "metadata": {},
   "source": [
    "93p\n",
    "# 정렬\n",
    "\n",
    "### 버블 정렬\n",
    "백준 1377번   \n",
    "98p"
   ]
  },
  {
   "cell_type": "code",
   "execution_count": 8,
   "id": "c7538835-88a1-475a-bd27-14a7fa255077",
   "metadata": {},
   "outputs": [
    {
     "name": "stdin",
     "output_type": "stream",
     "text": [
      " 5\n",
      " 5\n",
      " 2\n",
      " 3\n",
      " 4\n",
      " 1\n"
     ]
    },
    {
     "data": {
      "text/plain": [
       "[1, 2, 3, 4, 5]"
      ]
     },
     "execution_count": 8,
     "metadata": {},
     "output_type": "execute_result"
    }
   ],
   "source": [
    "# 5 2 3 4 1 => 1 2 3 4 5\n",
    "N = int(input())\n",
    "A = [0]*N\n",
    "for i in range(N):\n",
    "    A[i] = int(input())\n",
    "\n",
    "for i in range(N-1):\n",
    "    for j in range(N-1-i):\n",
    "        if A[j] > A[j+1]:\n",
    "            temp = A[j]\n",
    "            A[j] = A[j+1]\n",
    "            A[j+1] = temp\n",
    "\n",
    "A"
   ]
  },
  {
   "cell_type": "markdown",
   "id": "7f4e0788-a38e-45c7-97d2-f63482b0f252",
   "metadata": {},
   "source": [
    "# 소트인사이드\n",
    "102p  \n",
    "백준 1427번\n",
    "# 선택정렬"
   ]
  },
  {
   "cell_type": "code",
   "execution_count": 13,
   "id": "d76350e5-5237-4fcf-8ac6-944af33b3c16",
   "metadata": {},
   "outputs": [
    {
     "name": "stdin",
     "output_type": "stream",
     "text": [
      " 2143\n"
     ]
    }
   ],
   "source": [
    "A = list(input())"
   ]
  },
  {
   "cell_type": "code",
   "execution_count": 14,
   "id": "c78ed9b2-b106-4ec1-9f99-72a57a2c29f6",
   "metadata": {},
   "outputs": [
    {
     "data": {
      "text/plain": [
       "[2, 1, 4, 3]"
      ]
     },
     "execution_count": 14,
     "metadata": {},
     "output_type": "execute_result"
    }
   ],
   "source": [
    "A = list(map(int, A))\n",
    "A"
   ]
  },
  {
   "cell_type": "code",
   "execution_count": 16,
   "id": "42bb0a01-b96c-4ab3-8153-f9593fd62e9a",
   "metadata": {},
   "outputs": [
    {
     "data": {
      "text/plain": [
       "[4, 3, 2, 1]"
      ]
     },
     "execution_count": 16,
     "metadata": {},
     "output_type": "execute_result"
    }
   ],
   "source": [
    "\n",
    "\n",
    "for i in range(len(A)):\n",
    "    max_i = i\n",
    "    for j in range(i+1, len(A)):\n",
    "        if A[j] > A[max_i]:\n",
    "            max_i = j\n",
    "    if A[i] < A[max_i]:\n",
    "        temp = A[i]\n",
    "        A[i] = A[max_i]\n",
    "        A[max_i] = temp\n",
    "\n",
    "A"
   ]
  },
  {
   "cell_type": "code",
   "execution_count": 17,
   "id": "19454ec3-fbd8-4951-9958-a0a803899b3b",
   "metadata": {},
   "outputs": [
    {
     "data": {
      "text/plain": [
       "'4321'"
      ]
     },
     "execution_count": 17,
     "metadata": {},
     "output_type": "execute_result"
    }
   ],
   "source": [
    "A = list(map(str, A))\n",
    "\"\".join(A)"
   ]
  },
  {
   "cell_type": "markdown",
   "id": "37149c36-ab8e-46e2-a95d-151b2c9ff1eb",
   "metadata": {},
   "source": [
    "# 삽입 정렬\n",
    "106p   \n",
    "백준 11399번"
   ]
  },
  {
   "cell_type": "code",
   "execution_count": 34,
   "id": "60e004da-f140-49f1-b2da-273c9d4c4897",
   "metadata": {},
   "outputs": [
    {
     "name": "stdin",
     "output_type": "stream",
     "text": [
      " 5\n",
      " 3 1 4 3 2\n"
     ]
    }
   ],
   "source": [
    "n = int(input())\n",
    "a = list(map(int, input().split()))\n",
    "s = [0]*n"
   ]
  },
  {
   "cell_type": "code",
   "execution_count": 25,
   "id": "264e40e2-df14-47e6-ad3d-40ee0625765b",
   "metadata": {},
   "outputs": [
    {
     "name": "stdin",
     "output_type": "stream",
     "text": [
      " 12345\n"
     ]
    }
   ],
   "source": [
    "a = list(input())"
   ]
  },
  {
   "cell_type": "code",
   "execution_count": 33,
   "id": "42812501-772f-47c7-befd-aa8b1b821677",
   "metadata": {},
   "outputs": [
    {
     "data": {
      "text/plain": [
       "[1, 2, 3, 4, 5]"
      ]
     },
     "execution_count": 33,
     "metadata": {},
     "output_type": "execute_result"
    }
   ],
   "source": [
    "a = list(map(int, A))\n",
    "a"
   ]
  },
  {
   "cell_type": "code",
   "execution_count": 35,
   "id": "db9ecbaf-d19b-4f8c-8bc2-0bcf68d932ae",
   "metadata": {},
   "outputs": [
    {
     "data": {
      "text/plain": [
       "[1, 2, 3, 3, 4]"
      ]
     },
     "execution_count": 35,
     "metadata": {},
     "output_type": "execute_result"
    }
   ],
   "source": [
    "a.sort()\n",
    "a"
   ]
  },
  {
   "cell_type": "code",
   "execution_count": 37,
   "id": "5b8ec51e-8e60-45d2-bc71-ac144ba41b9b",
   "metadata": {},
   "outputs": [
    {
     "data": {
      "text/plain": [
       "32"
      ]
     },
     "execution_count": 37,
     "metadata": {},
     "output_type": "execute_result"
    }
   ],
   "source": [
    "s[0] = a[0]\n",
    "for i in range(1, n):\n",
    "    s[i] = s[i-1] + a[i]\n",
    "\n",
    "sumValue = 0\n",
    "for i in range(n):\n",
    "    sumValue += s[i]\n",
    "\n",
    "sumValue"
   ]
  },
  {
   "cell_type": "code",
   "execution_count": null,
   "id": "1d7f0373-c9ec-4915-8dd7-b2e8e548f7a6",
   "metadata": {},
   "outputs": [],
   "source": []
  }
 ],
 "metadata": {
  "kernelspec": {
   "display_name": "Python 3 (ipykernel)",
   "language": "python",
   "name": "python3"
  },
  "language_info": {
   "codemirror_mode": {
    "name": "ipython",
    "version": 3
   },
   "file_extension": ".py",
   "mimetype": "text/x-python",
   "name": "python",
   "nbconvert_exporter": "python",
   "pygments_lexer": "ipython3",
   "version": "3.12.3"
  }
 },
 "nbformat": 4,
 "nbformat_minor": 5
}
