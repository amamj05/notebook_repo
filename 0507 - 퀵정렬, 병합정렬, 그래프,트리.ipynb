{
 "cells": [
  {
   "cell_type": "markdown",
   "id": "c12fd651-abf4-4cfa-84f4-682e3f79f5af",
   "metadata": {},
   "source": [
    "106p   \n",
    "풀었던거 금요일 코드\n"
   ]
  },
  {
   "cell_type": "code",
   "execution_count": null,
   "id": "f24003a9-753c-41e5-b4fe-219393e44616",
   "metadata": {},
   "outputs": [],
   "source": [
    "n = int(input())\n",
    "a = list(map(int, input().split()))\n",
    "s = [0]*n\n"
   ]
  },
  {
   "cell_type": "code",
   "execution_count": null,
   "id": "02808034-4937-4233-95a4-6b68bf7a4b1d",
   "metadata": {},
   "outputs": [],
   "source": [
    "a = list(map(int, A))\n",
    "a"
   ]
  },
  {
   "cell_type": "code",
   "execution_count": null,
   "id": "2d37cfd2-fa7d-4474-acc5-88b2de2bbd2f",
   "metadata": {},
   "outputs": [],
   "source": [
    "a.sort()\n",
    "a"
   ]
  },
  {
   "cell_type": "code",
   "execution_count": null,
   "id": "a976fba3-5901-4e2f-8bba-b82e0672f353",
   "metadata": {},
   "outputs": [],
   "source": [
    "s[0] = a[0]\n",
    "for i in range(1, n):\n",
    "    s[i] = s[i-1] + a[i]\n",
    "\n",
    "sumValue = 0\n",
    "for i in range(n):\n",
    "    sumValue += s[i]\n",
    "\n",
    "sumValue"
   ]
  },
  {
   "cell_type": "markdown",
   "id": "8557eb20-a335-4e2f-94f8-a8a4e260d598",
   "metadata": {},
   "source": [
    "다르게풀어보기   \n",
    "# 110p  \n",
    "삽입정렬?"
   ]
  },
  {
   "cell_type": "code",
   "execution_count": 6,
   "id": "b86dadd6-343c-410f-8816-8ce8e2280521",
   "metadata": {},
   "outputs": [
    {
     "name": "stdin",
     "output_type": "stream",
     "text": [
      " 5\n",
      " 3 1 4 3 2\n"
     ]
    }
   ],
   "source": [
    "n = int(input())\n",
    "a = list(map(int, input().split()))\n",
    "s = [0]*n\n"
   ]
  },
  {
   "cell_type": "code",
   "execution_count": 2,
   "id": "282a1e30-3533-44bb-b0d7-4d95916f7625",
   "metadata": {},
   "outputs": [
    {
     "data": {
      "text/plain": [
       "[1, 2, 3, 3, 4]"
      ]
     },
     "execution_count": 2,
     "metadata": {},
     "output_type": "execute_result"
    }
   ],
   "source": [
    "a.sort()\n",
    "a"
   ]
  },
  {
   "cell_type": "markdown",
   "id": "5aefbcef-5f08-4241-a366-3b317676c3ac",
   "metadata": {},
   "source": [
    "for i in range(1, n): \n",
    "    insert_point = i\n",
    "    insert_value = a[i]\n",
    "    for j in range(i-1, -1 , -1):\n",
    "        if a[j] < a[i]:\n",
    "            insert_point = j+1\n",
    "            break\n",
    "        if j == 0:\n",
    "            insert_point = 0\n",
    "    for j2 in range(i, insert_point, -1):\n",
    "        a[j2] = a[j2-1]\n",
    "    a[insert_point] = insert_value\n",
    "\n",
    "a"
   ]
  },
  {
   "cell_type": "markdown",
   "id": "e81f53c1-a9f5-492a-a831-f78734a14ee9",
   "metadata": {},
   "source": [
    "\n",
    "# 퀵정렬 Quick Sort\n",
    "분할 정복 (Divide and Conquer)  \n",
    "재귀함수   \n",
    "111p "
   ]
  },
  {
   "cell_type": "code",
   "execution_count": 20,
   "id": "2c1356a0-2230-4808-a246-9d190a78e85a",
   "metadata": {},
   "outputs": [
    {
     "name": "stdout",
     "output_type": "stream",
     "text": [
      "[5, 15, 24, 32, 42, 45, 60, 90]\n"
     ]
    }
   ],
   "source": [
    "arr = [42, 32, 24, 60, 15, 5, 90, 45]\n",
    "start_index = 0\n",
    "end_index = len(arr)-1\n",
    "\n",
    "def QuickSort(arr, start_index, end_index):\n",
    "     #pivot point 파티션이 나눠지니까\n",
    "    if start_index >= end_index:\n",
    "        return\n",
    "    pivot_index = partition(arr, start_index, end_index)  \n",
    "    QuickSort(arr, start_index, pivot_index-1)\n",
    "    QuickSort(arr, pivot_index+1, end_index)\n",
    "\n",
    "def partition(arr, start_index, end_index):\n",
    "    now_pivot_value = arr[end_index]\n",
    "\n",
    "    change_index = start_index - 1\n",
    "    for search_index in range(start_index, end_index):\n",
    "        if arr[search_index] <= now_pivot_value:\n",
    "            change_index += 1\n",
    "            arr[change_index], arr[search_index] = arr[search_index], arr[change_index]\n",
    "            \n",
    "    arr[change_index +1], arr[end_index] = arr[end_index], arr[change_index +1]\n",
    "    return change_index + 1 \n",
    "\n",
    "\n",
    "QuickSort(arr, start_index, end_index)\n",
    "print(arr)"
   ]
  },
  {
   "cell_type": "markdown",
   "id": "0eb76590-9549-41f3-b035-81f2c3b3a633",
   "metadata": {},
   "source": [
    "# 병합정렬\n",
    "재귀함수  \n",
    "118p  \n"
   ]
  },
  {
   "cell_type": "code",
   "execution_count": 3,
   "id": "a658d9b9-2c7c-4276-9f1d-e9a3fa0fa12c",
   "metadata": {},
   "outputs": [
    {
     "name": "stdout",
     "output_type": "stream",
     "text": [
      "[5, 15, 24, 32, 42, 45, 60, 90]\n"
     ]
    }
   ],
   "source": [
    "arr = [42, 32, 24, 60, 15, 5, 90, 45]\n",
    "\n",
    "\n",
    "def MergeSort(arr):\n",
    "    if len(arr) <= 1:\n",
    "        return arr\n",
    "    middle_index = len(arr) // 2\n",
    "    left = MergeSort(arr[:middle_index])\n",
    "    right = MergeSort(arr[middle_index:])\n",
    "    return merge(left, right)\n",
    "\n",
    "def merge(left, right):\n",
    "    mergeArr = []\n",
    "    left_index, right_index = 0, 0\n",
    "    while left_index < len(left) and right_index < len(right):\n",
    "        if left[left_index] < right[right_index]:\n",
    "            temp = left[left_index]\n",
    "            mergeArr.append(temp)\n",
    "            left_index += 1\n",
    "        else:\n",
    "            temp = right[right_index]\n",
    "            mergeArr.append(temp)\n",
    "            right_index += 1\n",
    "    while right_index < len(right):\n",
    "        temp = right[right_index]\n",
    "        mergeArr.append(temp)\n",
    "        right_index += 1\n",
    "    while left_index < len(left):\n",
    "        temp = left[left_index]\n",
    "        mergeArr.append(temp)\n",
    "        left_index += 1\n",
    "    return mergeArr\n",
    "\n",
    "sorted_arr = MergeSort(arr)\n",
    "print(sorted_arr)"
   ]
  },
  {
   "cell_type": "markdown",
   "id": "a60b8e24-decd-4666-a197-d628b8e88b24",
   "metadata": {},
   "source": [
    "## 그래프, 트리  \n",
    "242p, 366p\n",
    "비선형 자료 구조  \n",
    "선형은 일자로 이어진거. 저번에 next value만 만들어서 일자로 주욱 만들었던거"
   ]
  },
  {
   "cell_type": "code",
   "execution_count": null,
   "id": "8587dc19-9ea2-46ba-9810-d13a008b0764",
   "metadata": {},
   "outputs": [],
   "source": [
    "class Node:\n",
    "    def __init__(self, data):\n",
    "        self.data = data\n",
    "        self.left = None\n",
    "        self.right = None"
   ]
  },
  {
   "cell_type": "code",
   "execution_count": null,
   "id": "483f4fe0-6169-412c-a6e9-061bed1b8c98",
   "metadata": {},
   "outputs": [],
   "source": [
    "node1 = Node(\"A\")\n",
    "node2 = Node(\"B\")\n",
    "node3 = Node(\"C\")\n",
    "node4 = Node(\"D\")\n",
    "node5 = Node(\"E\")"
   ]
  },
  {
   "cell_type": "code",
   "execution_count": null,
   "id": "8295bc75-68dc-4aae-b0cd-2c6c508ac16e",
   "metadata": {},
   "outputs": [],
   "source": [
    "node1.left = node2\n",
    "node1.right = node3\n",
    "node2.left = node4\n",
    "node2.right = node5"
   ]
  },
  {
   "cell_type": "markdown",
   "id": "f34a1ef8-90a6-41b5-ac85-7c15d8793e8e",
   "metadata": {},
   "source": [
    "# 이진트리 Binary tree\n",
    "382p"
   ]
  },
  {
   "cell_type": "code",
   "execution_count": null,
   "id": "7c98028a-bc91-4b14-ab80-555a6865f57c",
   "metadata": {},
   "outputs": [],
   "source": [
    "class BinaryNode:\n",
    "    def __init__(self, data):\n",
    "        self.data = data\n",
    "        self.left = None\n",
    "        self.right = None\n",
    "\n",
    "    def insert(self, data):\n",
    "        if self.data is None:\n",
    "            self.data = data\n",
    "        else:\n",
    "            pass"
   ]
  },
  {
   "cell_type": "markdown",
   "id": "c1c35ef5-78d6-42e7-b4d0-a9dfc7fee869",
   "metadata": {},
   "source": [
    "- 편향 이진트리\n",
    "- 포화 이진트리\n",
    "- "
   ]
  }
 ],
 "metadata": {
  "kernelspec": {
   "display_name": "Python 3 (ipykernel)",
   "language": "python",
   "name": "python3"
  },
  "language_info": {
   "codemirror_mode": {
    "name": "ipython",
    "version": 3
   },
   "file_extension": ".py",
   "mimetype": "text/x-python",
   "name": "python",
   "nbconvert_exporter": "python",
   "pygments_lexer": "ipython3",
   "version": "3.12.3"
  }
 },
 "nbformat": 4,
 "nbformat_minor": 5
}
