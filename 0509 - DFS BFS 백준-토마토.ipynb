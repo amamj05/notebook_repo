{
 "cells": [
  {
   "cell_type": "markdown",
   "id": "32601299-548f-4c4c-b994-784920b2b593",
   "metadata": {},
   "source": [
    "# DFS\n",
    "내가만든 코드로 돌린다??"
   ]
  },
  {
   "cell_type": "code",
   "execution_count": 4,
   "id": "ffc44802-59d6-4964-9801-5ff9abf6f825",
   "metadata": {},
   "outputs": [],
   "source": [
    "graph = {}\n",
    "graph[\"A\"] = [\"C\", \"B\"] # [\"B\", \"C\"]\n",
    "graph[\"B\"] = [\"D\", \"A\"] # [\"A\", \"D\"]\n",
    "graph[\"C\"] = [\"I\", \"H\", \"G\", \"A\"] # [\"A\", \"G\", \"H\", \"I\"]\n",
    "graph[\"D\"] = [\"F\", \"E\", \"B\"] # [\"B\", \"E\", \"F\"]\n",
    "graph[\"E\"] = [\"D\"]\n",
    "graph[\"F\"] = [\"D\"]\n",
    "graph[\"G\"] = [\"C\"]\n",
    "graph[\"H\"] = [\"C\"]\n",
    "graph[\"I\"] = [\"J\", \"C\"] # [\"C\", \"J\"]\n",
    "graph[\"J\"] = [\"I\"]"
   ]
  },
  {
   "cell_type": "code",
   "execution_count": 3,
   "id": "9b917594-b580-4d8b-b2a4-4e6a15e78e41",
   "metadata": {},
   "outputs": [
    {
     "data": {
      "text/plain": [
       "['A', 'B', 'D', 'E', 'F', 'C', 'G', 'H', 'I', 'J']"
      ]
     },
     "execution_count": 3,
     "metadata": {},
     "output_type": "execute_result"
    }
   ],
   "source": [
    "def dfs(graph, start_node):\n",
    "    stack=[]\n",
    "    visited=[]\n",
    "    stack.append(start_node) \n",
    "    while stack:\n",
    "        node = stack.pop() \n",
    "        if node not in visited:\n",
    "            visited.append(node)\n",
    "            stack += graph[node]\n",
    "    return visited\n",
    "\n",
    "dfs(graph,\"A\")"
   ]
  },
  {
   "cell_type": "markdown",
   "id": "edb3cecd-6aac-4e6c-9b26-1272dd3fdb69",
   "metadata": {},
   "source": [
    "그 while문 앞에 st네네\r\n",
    "\n",
    "\r\n",
    "\r\n",
    "\r\n",
    "10:21\r\n",
    "음 넵 근데 재귀로 풀고 아니고가 이나고\r\n",
    "10:22\r\n",
    "그 스택으로 풀때도\r\n",
    "10:22\r\n",
    "저렇게 하면 중복으로 담길거 같아서요\r\n",
    "10:22\r\n",
    "그 디버깅 해보면\r\n",
    "10:23\r\n",
    "Added to stack: ['B', 'C']\r\n",
    "Current stack: ['B', 'C']\r\n",
    "Added to stack: ['A', 'G', 'H', 'I']\r\n",
    "Current stack: ['B', 'A', 'G', 'H', 'I']\r\n",
    "Added to stack: ['J', 'C']\r\n",
    "Current stack: ['B', 'A', 'G', 'H', 'J', 'C']\r\n",
    "C is visited again.\r\n",
    "Added to stack: ['I']\r\n",
    "Current stack: ['B', 'A', 'G', 'H', 'I']\r\n",
    "I is visited again.\r\n",
    "Added to stack: ['C']\r\n",
    "Current stack: ['B', 'A', 'G', 'C']\r\n",
    "C is visited again.\r\n",
    "Added to stack: ['C']\r\n",
    "Current stack: ['B', 'A', 'C']\r\n",
    "C is visited again.\r\n",
    "A is visited again.\r\n",
    "Added to stack: ['A', 'D']\r\n",
    "Current stack: ['A', 'D']\r\n",
    "Added to stack: ['F', 'E', 'B']\r\n",
    "Current stack: ['A', 'F', 'E', 'B']\r\n",
    "B is visited again.\r\n",
    "Added to stack: ['D']\r\n",
    "Current stack: ['A', 'F', 'D']\r\n",
    "D is visited again.\r\n",
    "Added to stack: ['D']\r\n",
    "Current stack: ['A', 'D']\r\n",
    "D is visited again.\r\n",
    "A is visited again.\r\n",
    "All nodes added to stack: ['B', 'C', 'A', 'G', 'H', 'I', 'J', 'C', 'I', 'C', 'C', 'A', 'D', 'F', 'E', 'B', 'D', 'D']\r\n",
    "Visited nodes: ['A', 'C', 'I', 'J', 'H', 'G', 'B', 'D', 'E', 'F']\r\n",
    "10:23\r\n",
    "이런식으로 나오는데\r\n",
    "10:23\r\n",
    "지금 방문한 노드 보면\r\n",
    "10:23\r\n",
    "중복으로 거쳐가서\r\n",
    "10:23\r\n",
    "def dfs(graph, start_node):\r\n",
    "    stack = [start_node]  # 시작 노드를 스택에 추가\r\n",
    "    visited = []  # 방문한 노드를 저장할 리스트\r\n",
    "    while stack:\r\n",
    "        node = stack.pop()  # 스택에서 하나의 노드를 꺼냄\r\n",
    "        if node not in visited:  # 이 노드를 방문하지 않았다면\r\n",
    "            visited.append(node)  # 방문 리스트에 추가\r\n",
    "            # 연결된 노드들을 스택에 추가하기 전에 방문하지 않은 노드만 추가\r\n",
    "            stack.extend([n for n in graph[node] if n not in visited])\r\n",
    "    return visited 이렇게 바꿔줘야 하지 않을까\r\n",
    "10:23\r\n",
    "싶습니다\r\n",
    "10:24\r\n",
    "결과는 똑같이 나오는데\r\n",
    "10:24\r\n",
    "디버깅 했을때\r\n",
    "10:24\r\n",
    "중복되지 않게 거쳐갑니다"
   ]
  },
  {
   "cell_type": "code",
   "execution_count": 6,
   "id": "e9a90dcd-0737-4928-ad28-8ab2403eae4a",
   "metadata": {},
   "outputs": [
    {
     "data": {
      "text/plain": [
       "['A', 'B', 'D', 'E', 'F', 'C', 'G', 'H', 'I', 'J']"
      ]
     },
     "execution_count": 6,
     "metadata": {},
     "output_type": "execute_result"
    }
   ],
   "source": [
    "# 준기님 디버깅 제시코드 : 중복으로 거쳐가는게 없음\n",
    "\n",
    "def dfs(graph, start_node):\n",
    "    stack = [start_node]  # 시작 노드를 스택에 추가\n",
    "    visited = []  # 방문한 노드를 저장할 리스트\n",
    "    while stack:\n",
    "        node = stack.pop()  # 스택에서 하나의 노드를 꺼냄\n",
    "        if node not in visited:  # 이 노드를 방문하지 않았다면\n",
    "            visited.append(node)  # 방문 리스트에 추가\n",
    "            # 연결된 노드들을 스택에 추가하기 전에 방문하지 않은 노드만 추가\n",
    "            stack.extend([n for n in graph[node] if n not in visited])\n",
    "    return visited \n",
    "\n",
    "dfs(graph,\"A\")"
   ]
  },
  {
   "cell_type": "code",
   "execution_count": 8,
   "id": "0d49927e-dc19-4af0-9234-230aff73e6b2",
   "metadata": {},
   "outputs": [
    {
     "data": {
      "text/plain": [
       "['A', 'C', 'I', 'J', 'H', 'G', 'B', 'D', 'F', 'E']"
      ]
     },
     "execution_count": 8,
     "metadata": {},
     "output_type": "execute_result"
    }
   ],
   "source": [
    "# 준기님 코드 + 강사님 수정\n",
    "\n",
    "def dfs(graph, start_node, visited=[]):\n",
    "    visited.append(start_node)\n",
    "    for n in graph[start_node]:\n",
    "        if n not in visited:\n",
    "            dfs(graph, n, visited)\n",
    "    return visited \n",
    "\n",
    "dfs(graph,\"A\")"
   ]
  },
  {
   "cell_type": "markdown",
   "id": "b95ed9d6-5578-4621-8fdd-bbeeefb4a465",
   "metadata": {},
   "source": [
    "# BFS\n",
    "재귀함수로 돌린다??"
   ]
  },
  {
   "cell_type": "code",
   "execution_count": 9,
   "id": "8563358b-8b46-406d-aab6-03ad42357de6",
   "metadata": {},
   "outputs": [
    {
     "data": {
      "text/plain": [
       "['A', 'C', 'B', 'I', 'H', 'G', 'D', 'J', 'F', 'E']"
      ]
     },
     "execution_count": 9,
     "metadata": {},
     "output_type": "execute_result"
    }
   ],
   "source": [
    "from collections import deque\n",
    "\n",
    "def bfs(graph, start_node):\n",
    "    queue = deque()\n",
    "    visited = []\n",
    "    queue.append(start_node)\n",
    "    while queue:\n",
    "        node = queue.popleft()\n",
    "        if node not in visited:\n",
    "            visited.append(node)\n",
    "            queue += graph[node]\n",
    "    return visited\n",
    "\n",
    "bfs(graph, \"A\")"
   ]
  },
  {
   "cell_type": "markdown",
   "id": "db0e1633-7f35-40ff-aa83-2d82e2d8564a",
   "metadata": {},
   "source": [
    "# 백준 토마토\n",
    "7576번 문제"
   ]
  },
  {
   "cell_type": "code",
   "execution_count": 12,
   "id": "9a563196-acca-4416-9110-1f9a97fd280c",
   "metadata": {},
   "outputs": [
    {
     "name": "stdin",
     "output_type": "stream",
     "text": [
      " 6 4\n",
      " 0 0 0 0 0 0\n",
      " 0 0 0 0 0 0\n",
      " 0 0 0 0 0 0\n",
      " 0 0 0 0 0 1\n"
     ]
    },
    {
     "data": {
      "text/plain": [
       "[[0, 0, 0, 0, 0, 0],\n",
       " [0, 0, 0, 0, 0, 0],\n",
       " [0, 0, 0, 0, 0, 0],\n",
       " [0, 0, 0, 0, 0, 1]]"
      ]
     },
     "execution_count": 12,
     "metadata": {},
     "output_type": "execute_result"
    }
   ],
   "source": [
    "# BFS (queue)\n",
    "\n",
    "from collections import deque\n",
    "\n",
    "dx = [0,0,-1,1]\n",
    "dy = [-1,1,0,0]\n",
    "\n",
    "m, n = map(int, input().split())\n",
    "matrix = [list(map(int, input().split())) for i in range(n)]\n",
    "matrix"
   ]
  },
  {
   "cell_type": "code",
   "execution_count": 13,
   "id": "e2a0f136-39c2-4f8a-8754-5ca6649d6da8",
   "metadata": {},
   "outputs": [
    {
     "data": {
      "text/plain": [
       "1"
      ]
     },
     "execution_count": 13,
     "metadata": {},
     "output_type": "execute_result"
    }
   ],
   "source": [
    "matrix[3][5]"
   ]
  },
  {
   "cell_type": "code",
   "execution_count": 14,
   "id": "b1c37d05-1b04-4646-bf7b-61063053e46b",
   "metadata": {},
   "outputs": [],
   "source": [
    "q = deque([])\n",
    "day_res = 0"
   ]
  },
  {
   "cell_type": "code",
   "execution_count": 15,
   "id": "1624066d-02ea-492e-aee0-7d495e0987ea",
   "metadata": {},
   "outputs": [],
   "source": [
    "for i in range(n):\n",
    "    for j in range(m):\n",
    "        if matrix[i][j] == 1:\n",
    "            q.append([i,j])"
   ]
  },
  {
   "cell_type": "code",
   "execution_count": 16,
   "id": "b36d5b66-c318-4f96-bb01-8002c8c86cb3",
   "metadata": {
    "scrolled": true
   },
   "outputs": [
    {
     "data": {
      "text/plain": [
       "[3, 5]"
      ]
     },
     "execution_count": 16,
     "metadata": {},
     "output_type": "execute_result"
    }
   ],
   "source": [
    "q.popleft()"
   ]
  },
  {
   "cell_type": "code",
   "execution_count": 1,
   "id": "eda1464f-c36c-444f-b8af-a276d9eb7ecf",
   "metadata": {},
   "outputs": [
    {
     "ename": "KeyboardInterrupt",
     "evalue": "Interrupted by user",
     "output_type": "error",
     "traceback": [
      "\u001b[1;31m---------------------------------------------------------------------------\u001b[0m",
      "\u001b[1;31mKeyboardInterrupt\u001b[0m                         Traceback (most recent call last)",
      "Cell \u001b[1;32mIn[1], line 1\u001b[0m\n\u001b[1;32m----> 1\u001b[0m m, n \u001b[38;5;241m=\u001b[39m \u001b[38;5;28mmap\u001b[39m(\u001b[38;5;28mint\u001b[39m, \u001b[38;5;28minput\u001b[39m()\u001b[38;5;241m.\u001b[39msplit())\n\u001b[0;32m      2\u001b[0m matrix \u001b[38;5;241m=\u001b[39m [\u001b[38;5;28mlist\u001b[39m(\u001b[38;5;28mmap\u001b[39m(\u001b[38;5;28mint\u001b[39m, \u001b[38;5;28minput\u001b[39m()\u001b[38;5;241m.\u001b[39msplit())) \u001b[38;5;28;01mfor\u001b[39;00m i \u001b[38;5;129;01min\u001b[39;00m \u001b[38;5;28mrange\u001b[39m(n)]\n\u001b[0;32m      3\u001b[0m matrix\n",
      "File \u001b[1;32mC:\\ProgramData\\miniconda3\\envs\\mulcam8\\Lib\\site-packages\\ipykernel\\kernelbase.py:1262\u001b[0m, in \u001b[0;36mKernel.raw_input\u001b[1;34m(self, prompt)\u001b[0m\n\u001b[0;32m   1260\u001b[0m     msg \u001b[38;5;241m=\u001b[39m \u001b[38;5;124m\"\u001b[39m\u001b[38;5;124mraw_input was called, but this frontend does not support input requests.\u001b[39m\u001b[38;5;124m\"\u001b[39m\n\u001b[0;32m   1261\u001b[0m     \u001b[38;5;28;01mraise\u001b[39;00m StdinNotImplementedError(msg)\n\u001b[1;32m-> 1262\u001b[0m \u001b[38;5;28;01mreturn\u001b[39;00m \u001b[38;5;28mself\u001b[39m\u001b[38;5;241m.\u001b[39m_input_request(\n\u001b[0;32m   1263\u001b[0m     \u001b[38;5;28mstr\u001b[39m(prompt),\n\u001b[0;32m   1264\u001b[0m     \u001b[38;5;28mself\u001b[39m\u001b[38;5;241m.\u001b[39m_parent_ident[\u001b[38;5;124m\"\u001b[39m\u001b[38;5;124mshell\u001b[39m\u001b[38;5;124m\"\u001b[39m],\n\u001b[0;32m   1265\u001b[0m     \u001b[38;5;28mself\u001b[39m\u001b[38;5;241m.\u001b[39mget_parent(\u001b[38;5;124m\"\u001b[39m\u001b[38;5;124mshell\u001b[39m\u001b[38;5;124m\"\u001b[39m),\n\u001b[0;32m   1266\u001b[0m     password\u001b[38;5;241m=\u001b[39m\u001b[38;5;28;01mFalse\u001b[39;00m,\n\u001b[0;32m   1267\u001b[0m )\n",
      "File \u001b[1;32mC:\\ProgramData\\miniconda3\\envs\\mulcam8\\Lib\\site-packages\\ipykernel\\kernelbase.py:1305\u001b[0m, in \u001b[0;36mKernel._input_request\u001b[1;34m(self, prompt, ident, parent, password)\u001b[0m\n\u001b[0;32m   1302\u001b[0m \u001b[38;5;28;01mexcept\u001b[39;00m \u001b[38;5;167;01mKeyboardInterrupt\u001b[39;00m:\n\u001b[0;32m   1303\u001b[0m     \u001b[38;5;66;03m# re-raise KeyboardInterrupt, to truncate traceback\u001b[39;00m\n\u001b[0;32m   1304\u001b[0m     msg \u001b[38;5;241m=\u001b[39m \u001b[38;5;124m\"\u001b[39m\u001b[38;5;124mInterrupted by user\u001b[39m\u001b[38;5;124m\"\u001b[39m\n\u001b[1;32m-> 1305\u001b[0m     \u001b[38;5;28;01mraise\u001b[39;00m \u001b[38;5;167;01mKeyboardInterrupt\u001b[39;00m(msg) \u001b[38;5;28;01mfrom\u001b[39;00m \u001b[38;5;28;01mNone\u001b[39;00m\n\u001b[0;32m   1306\u001b[0m \u001b[38;5;28;01mexcept\u001b[39;00m \u001b[38;5;167;01mException\u001b[39;00m:\n\u001b[0;32m   1307\u001b[0m     \u001b[38;5;28mself\u001b[39m\u001b[38;5;241m.\u001b[39mlog\u001b[38;5;241m.\u001b[39mwarning(\u001b[38;5;124m\"\u001b[39m\u001b[38;5;124mInvalid Message:\u001b[39m\u001b[38;5;124m\"\u001b[39m, exc_info\u001b[38;5;241m=\u001b[39m\u001b[38;5;28;01mTrue\u001b[39;00m)\n",
      "\u001b[1;31mKeyboardInterrupt\u001b[0m: Interrupted by user"
     ]
    }
   ],
   "source": [
    "m, n = map(int, input().split())\n",
    "matrix = [list(map(int, input().split())) for i in range(n)]\n",
    "matrix"
   ]
  },
  {
   "cell_type": "code",
   "execution_count": 19,
   "id": "b5ca0076-e694-4577-baae-f13fe76c4226",
   "metadata": {},
   "outputs": [
    {
     "data": {
      "text/plain": [
       "[[0, 0, 0, 0, 0, 0],\n",
       " [0, 0, 0, 0, 0, 0],\n",
       " [0, 0, 0, 0, 0, 0],\n",
       " [0, 0, 0, 0, 0, 1]]"
      ]
     },
     "execution_count": 19,
     "metadata": {},
     "output_type": "execute_result"
    }
   ],
   "source": [
    "def bfs_v():\n",
    "    while q:\n",
    "        y, x = q.popleft()\n",
    "        for i in range(4):  #상하좌우\n",
    "            ny, nx = y+dy[i], x+dx[i]\n",
    "            if 0 <= ny < n and 0 <= nx < m and matrix[ny][nx] == 0:\n",
    "                matrix[ny][nx] = matrix[y][x] + 1\n",
    "                q.append([ny, nx])\n",
    "\n",
    "bfs_v()\n",
    "matrix"
   ]
  },
  {
   "cell_type": "code",
   "execution_count": 21,
   "id": "c4091e30-c34e-4db3-b8c7-889d91776bd4",
   "metadata": {},
   "outputs": [
    {
     "name": "stdout",
     "output_type": "stream",
     "text": [
      "-1\n"
     ]
    }
   ],
   "source": [
    "# 실폐 사례 체크\n",
    "\n",
    "def print_result():\n",
    "    global day_res\n",
    "    for hang in matrix:\n",
    "        for num in hang:\n",
    "            if num == 0:\n",
    "                print(-1)\n",
    "                return\n",
    "        day_res = max(day_res, max(hang))\n",
    "    print(day_res -1)\n",
    "\n",
    "print_result()"
   ]
  },
  {
   "cell_type": "markdown",
   "id": "7f9a987d-3916-4eba-9978-5efa518e03fd",
   "metadata": {},
   "source": [
    "백준 2178번 문제???? "
   ]
  },
  {
   "cell_type": "raw",
   "id": "e38f86b5-53be-4c5c-8f0e-6777180cadef",
   "metadata": {},
   "source": [
    "백준 2667번 문제"
   ]
  },
  {
   "cell_type": "code",
   "execution_count": null,
   "id": "80e6821f-1e0c-48c0-b972-58700e19db40",
   "metadata": {},
   "outputs": [],
   "source": []
  }
 ],
 "metadata": {
  "kernelspec": {
   "display_name": "Python 3 (ipykernel)",
   "language": "python",
   "name": "python3"
  },
  "language_info": {
   "codemirror_mode": {
    "name": "ipython",
    "version": 3
   },
   "file_extension": ".py",
   "mimetype": "text/x-python",
   "name": "python",
   "nbconvert_exporter": "python",
   "pygments_lexer": "ipython3",
   "version": "3.12.3"
  }
 },
 "nbformat": 4,
 "nbformat_minor": 5
}
