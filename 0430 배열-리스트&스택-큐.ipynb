{
 "cells": [
  {
   "cell_type": "markdown",
   "id": "d7420045-d406-40eb-8f5c-a7d94b71a1c9",
   "metadata": {},
   "source": [
    "## 리스트를 배열로 사용해보기\n",
    "- 파이썬 문법에는 배열 없음 \n",
    "\n",
    "> 자료형 길이의 측면\n",
    "> - 배열 : 고정 - 인덱스 초과시 넣을 수 없음\n",
    "> - 리스트 : 유동적"
   ]
  },
  {
   "cell_type": "code",
   "execution_count": null,
   "id": "a45da6b8-1bec-4b75-b677-25579682cb8c",
   "metadata": {},
   "outputs": [],
   "source": [
    "# 리스트\n",
    "array = [10, 20, 30, 40]\n",
    "\n",
    "# 배열\n",
    "array = [10, 20, 30, 40, None]"
   ]
  },
  {
   "cell_type": "code",
   "execution_count": 3,
   "id": "134d369f-2d15-43c6-bcf6-bb6ea7421d87",
   "metadata": {},
   "outputs": [
    {
     "name": "stdout",
     "output_type": "stream",
     "text": [
      "[10, 50, 70, 5, 10000, 100]\n"
     ]
    }
   ],
   "source": [
    "array1 = [10, 50, 70, 5, 10000, 100]\n",
    "\n",
    "\n",
    "print(array1)"
   ]
  },
  {
   "cell_type": "markdown",
   "id": "13af6946-6710-4e6c-a551-0f65882ff9e2",
   "metadata": {},
   "source": [
    "# 리스트 추가\n",
    "- array.append(60)\n",
    "- array.insert(5, 60)"
   ]
  },
  {
   "cell_type": "markdown",
   "id": "a322d74e-013c-4dbd-9ddd-5d6faaa6afad",
   "metadata": {},
   "source": [
    "# Node\n",
    "- point"
   ]
  },
  {
   "cell_type": "code",
   "execution_count": null,
   "id": "00a13d76-a9f8-4aa4-a75d-9b2021619a92",
   "metadata": {},
   "outputs": [],
   "source": [
    "class Node:\n",
    "    def __init__(self, data_val):\n",
    "        self.data_val = data_val  # 자신의 값\n",
    "        self.next_val = None    # 포인터"
   ]
  },
  {
   "cell_type": "markdown",
   "id": "c7062928-256b-4fab-abc0-281a2cd748be",
   "metadata": {},
   "source": [
    "# LinkedList\n",
    "\n",
    "- 연결로 구현한 리스트\n",
    "- 한 원소에서 값과 다음 원소의 주소를 알고 연결하는 방식\n",
    "- 순차적으로 접근함 W(n)\n",
    "- 삽입, 삭제는 O(1)이지만 해당 지점까지 접근해야하므로 W(n)일 수 있음\n",
    "> 배열과 다르게 논리적 저장 순서와 물리적 저장 순서가 일치하지 않는다!\n",
    "\n",
    "출처: https://jy-tblog.tistory.com/38 [jy.log:티스토리]"
   ]
  },
  {
   "cell_type": "code",
   "execution_count": 4,
   "id": "49c68b3f-d31f-41bf-b94c-f25d66fae88f",
   "metadata": {},
   "outputs": [],
   "source": [
    "# 세팅\n",
    "class Node:\n",
    "    def __init__(self, data_value):\n",
    "        self.data_value = data_value  \n",
    "        self.next_value = None    \n",
    "\n",
    "class LinkedList:\n",
    "    def __init__(self):\n",
    "        self.head_value = None\n",
    "\n",
    "# 구성\n",
    "mylist = LinkedList()\n",
    "\n",
    "n1 = Node(\"값1\")\n",
    "mylist.head_value = n1\n",
    "\n",
    "n2 = Node(\"rkqt2\")\n",
    "n1.next_value = n2\n",
    "\n",
    "n3 = Node(\"rkqt3\")\n",
    "n2.next_value = n3"
   ]
  },
  {
   "cell_type": "code",
   "execution_count": 5,
   "id": "07f1d843-02c8-42af-a98c-2971bd3bfc9f",
   "metadata": {},
   "outputs": [
    {
     "data": {
      "text/plain": [
       "'값1'"
      ]
     },
     "execution_count": 5,
     "metadata": {},
     "output_type": "execute_result"
    }
   ],
   "source": [
    "mylist.head_value.data_value"
   ]
  },
  {
   "cell_type": "code",
   "execution_count": 7,
   "id": "d599fbb8-d273-4937-b990-bd9da37a75bc",
   "metadata": {},
   "outputs": [
    {
     "data": {
      "text/plain": [
       "'rkqt2'"
      ]
     },
     "execution_count": 7,
     "metadata": {},
     "output_type": "execute_result"
    }
   ],
   "source": [
    "mylist.head_value.next_value.data_value"
   ]
  },
  {
   "cell_type": "code",
   "execution_count": 8,
   "id": "dbcbcb20-c9a4-4d13-8ac3-34fc7d6e4477",
   "metadata": {},
   "outputs": [
    {
     "data": {
      "text/plain": [
       "'rkqt3'"
      ]
     },
     "execution_count": 8,
     "metadata": {},
     "output_type": "execute_result"
    }
   ],
   "source": [
    "mylist.head_value.next_value.next_value.data_value"
   ]
  },
  {
   "cell_type": "markdown",
   "id": "72523b35-a8be-4c05-b9e0-f6fd738a9985",
   "metadata": {},
   "source": [
    "### 파이썬의 리스트 중간에 추가"
   ]
  },
  {
   "cell_type": "code",
   "execution_count": 4,
   "id": "801e0fa7-5d12-4eec-b8fa-b7c28faffc87",
   "metadata": {},
   "outputs": [
    {
     "data": {
      "text/plain": [
       "[10, 20, 1000, 30, 40, 50]"
      ]
     },
     "execution_count": 4,
     "metadata": {},
     "output_type": "execute_result"
    }
   ],
   "source": [
    "array = [10,20,30,40,50]\n",
    "array.insert(2, 10000)\n",
    "array"
   ]
  },
  {
   "cell_type": "markdown",
   "id": "61c7c5f6-66d3-420a-8482-74e65fec84f9",
   "metadata": {},
   "source": [
    "### 배열로 간주하고 중간에 추가\n",
    " - 비워진 자리"
   ]
  },
  {
   "cell_type": "code",
   "execution_count": 6,
   "id": "c90ab0d6-5a53-4a8f-ba0e-309615071fdc",
   "metadata": {},
   "outputs": [
    {
     "data": {
      "text/plain": [
       "[10, 20, 10000, 30, 40, 50]"
      ]
     },
     "execution_count": 6,
     "metadata": {},
     "output_type": "execute_result"
    }
   ],
   "source": [
    "array2 = [10,20,30,40,50,None]  \n",
    "for i in range(4, 1, -1):\n",
    "    array2[i+1] = array2[i]\n",
    "\n",
    "array[2] = 10000\n",
    "array"
   ]
  },
  {
   "cell_type": "markdown",
   "id": "08b01884-e376-4d5d-ae20-c2dba7939ddf",
   "metadata": {},
   "source": [
    "# 파이썬의 스택, 큐\n",
    "- append\n",
    "- pop\n",
    "  > 원래는 push와 pop\n",
    "- 아래로 넣어지고\n",
    "- 위부터 뺀다"
   ]
  },
  {
   "cell_type": "markdown",
   "id": "ce9b5e59-1b9b-4e2d-b58a-d8c7729aa39a",
   "metadata": {},
   "source": [
    "### 스택"
   ]
  },
  {
   "cell_type": "code",
   "execution_count": 7,
   "id": "14e6dc7e-d732-41e3-a608-4f2657db0bb9",
   "metadata": {},
   "outputs": [
    {
     "name": "stdout",
     "output_type": "stream",
     "text": [
      "5\n",
      "2\n",
      "1\n"
     ]
    }
   ],
   "source": [
    "stack = []\n",
    "stack.append(1)\n",
    "stack.append(2)\n",
    "stack.append(5)\n",
    "print(stack.pop())\n",
    "print(stack.pop())\n",
    "print(stack.pop())"
   ]
  },
  {
   "cell_type": "markdown",
   "id": "176749c6-d3a4-44d7-a1be-c2b702b1a896",
   "metadata": {},
   "source": [
    "# 큐\n",
    "## queue\n",
    "먼저 들어간걸 먼저 뺀다\n",
    "\n",
    "- enqueue 넣을때\n",
    "- dequeue 뺄때\n",
    "  > 왜 실습을 다 파이썬으로 하는 거임???? 파이썬은 배열을 안쓰니까 죄다 리스트로 해야해서 계속 append만 하는데 왜 이걸로 계속 실습해야하는지 모르겟네 "
   ]
  },
  {
   "cell_type": "code",
   "execution_count": 13,
   "id": "cad6082b-5e1b-419f-9d51-ae767d7b2d2c",
   "metadata": {},
   "outputs": [
    {
     "data": {
      "text/plain": [
       "[2, 3]"
      ]
     },
     "execution_count": 13,
     "metadata": {},
     "output_type": "execute_result"
    }
   ],
   "source": [
    "queue = []\n",
    "queue.append(1)\n",
    "queue.append(2)\n",
    "queue.append(3)\n",
    "\n",
    "queue.pop(0)\n",
    "queue"
   ]
  },
  {
   "cell_type": "markdown",
   "id": "1f024534-3dc5-4844-9b96-651eb1dc09ed",
   "metadata": {},
   "source": [
    "# deque 덱\n",
    "- append\n",
    "- append left (append의 반대쪽에 넣어짐)\n",
    "- pop\n",
    "- pop left (pop의 반대쪽에 넣어짐)"
   ]
  },
  {
   "cell_type": "code",
   "execution_count": null,
   "id": "6ccfe958-d8c5-40ef-af01-5fd8db4fe9de",
   "metadata": {},
   "outputs": [],
   "source": [
    "from collections import deque\n",
    "\n",
    "queue = deque\n",
    "\n",
    "queue.append()\n",
    "queue.append()\n",
    "queue.append()\n",
    "\n",
    "queue.popleft()"
   ]
  },
  {
   "cell_type": "markdown",
   "id": "027cf0d8-6819-4dae-b2b8-1890e19cb66b",
   "metadata": {},
   "source": [
    "# 스택 깡으로 만들기\n",
    "### 여기 녹화본 봐야함\n",
    " 코드는 다 적음   \n",
    "1시간  7분 "
   ]
  },
  {
   "cell_type": "code",
   "execution_count": 16,
   "id": "14f85697-bd4d-41af-ba21-1c8fd902bfd1",
   "metadata": {},
   "outputs": [],
   "source": [
    "class myStack:\n",
    "    def __init__(self):\n",
    "        self.stack = []\n",
    "        self.top = -1\n",
    "    def push(self, value):\n",
    "        self.stack.append(value)\n",
    "        self.top += 1\n",
    "    def pop(self):\n",
    "        if self.top >= 0:\n",
    "            value = self.stack[self.top]\n",
    "            del self.stack[self.top]\n",
    "            self.top -= 1\n",
    "            return value\n",
    "        else:\n",
    "            return None\n",
    "    def size(self):\n",
    "        return self.top + 1"
   ]
  },
  {
   "cell_type": "code",
   "execution_count": 20,
   "id": "6661236c-95a2-460e-83b1-f6d00acc507c",
   "metadata": {},
   "outputs": [],
   "source": [
    "stack3 = myStack()\n"
   ]
  },
  {
   "cell_type": "code",
   "execution_count": 21,
   "id": "60c4f9b8-9bcc-45ff-8d0c-17a6efc7fab7",
   "metadata": {},
   "outputs": [
    {
     "data": {
      "text/plain": [
       "(-1, [], 0)"
      ]
     },
     "execution_count": 21,
     "metadata": {},
     "output_type": "execute_result"
    }
   ],
   "source": [
    "stack3.pop()\n",
    "stack3.top, stack3.stack, stack3.size()"
   ]
  },
  {
   "cell_type": "markdown",
   "id": "65f615c9-e608-4630-a3b6-77d5318a52c0",
   "metadata": {},
   "source": [
    "# 큐 깡으로 만들기"
   ]
  },
  {
   "cell_type": "code",
   "execution_count": 32,
   "id": "085b0d7f-4012-4209-bb80-7d6aa053a05c",
   "metadata": {},
   "outputs": [],
   "source": [
    "class myQueue:\n",
    "    def __init__(self):\n",
    "        self.queue = []\n",
    "        self.front = 0\n",
    "        self.back = -1   # stack의 top\n",
    "\n",
    "    def enqueue(self, value):   #stack의 push\n",
    "        self.queue.append(value)\n",
    "        self.back += 1\n",
    "    def dequeue(self):   #stack의 pop\n",
    "        if self.back >= 0:\n",
    "            value = self.queue[self.front]\n",
    "            del self.queue[self.front]\n",
    "            self.back -= 1\n",
    "            return value\n",
    "        else:\n",
    "            return None\n",
    "        return self.back + 1\n",
    "    def size(self):\n",
    "        return self.back + 1\n",
    "        "
   ]
  },
  {
   "cell_type": "code",
   "execution_count": 24,
   "id": "b4505414-a4f1-4fb9-884b-dc49f52a5bd1",
   "metadata": {},
   "outputs": [
    {
     "data": {
      "text/plain": [
       "(0, -1, [], 0)"
      ]
     },
     "execution_count": 24,
     "metadata": {},
     "output_type": "execute_result"
    }
   ],
   "source": [
    "q1 = myQueue()\n",
    "q1.front, q1.back, q1.queue, q1.size()"
   ]
  },
  {
   "cell_type": "code",
   "execution_count": 25,
   "id": "8f72d6b8-d37f-441f-b44b-562ba5fdbd88",
   "metadata": {},
   "outputs": [],
   "source": [
    "q1.enqueue(10)\n",
    "q1.enqueue(100)\n",
    "q1.enqueue(1000)\n",
    "q1.enqueue(10000)"
   ]
  },
  {
   "cell_type": "code",
   "execution_count": 26,
   "id": "2531ac42-9845-4acb-8457-aac369971b27",
   "metadata": {},
   "outputs": [
    {
     "data": {
      "text/plain": [
       "(0, 3, [10, 100, 1000, 10000], 4)"
      ]
     },
     "execution_count": 26,
     "metadata": {},
     "output_type": "execute_result"
    }
   ],
   "source": [
    "q1.front, q1.back, q1.queue, q1.size()"
   ]
  },
  {
   "cell_type": "code",
   "execution_count": 28,
   "id": "fd553ad1-220f-4ed3-a17a-c319aa5bd08d",
   "metadata": {},
   "outputs": [
    {
     "data": {
      "text/plain": [
       "(0, 2, [100, 1000, 10000], 3)"
      ]
     },
     "execution_count": 28,
     "metadata": {},
     "output_type": "execute_result"
    }
   ],
   "source": [
    "# 맨 앞 빠짐\n",
    "q1.dequeue()\n",
    "q1.front, q1.back, q1.queue, q1.size()"
   ]
  },
  {
   "cell_type": "code",
   "execution_count": 34,
   "id": "73bb794e-4b68-448e-b97b-3655989716ab",
   "metadata": {
    "scrolled": true
   },
   "outputs": [
    {
     "data": {
      "text/plain": [
       "(100, 0, 1, [1000, 10000], 2)"
      ]
     },
     "execution_count": 34,
     "metadata": {},
     "output_type": "execute_result"
    }
   ],
   "source": [
    "val = q1.dequeue()\n",
    "val, q1.front, q1.back, q1.queue, q1.size()"
   ]
  },
  {
   "cell_type": "markdown",
   "id": "a375e8e7-840f-4ace-8bde-d415a9ebd7bd",
   "metadata": {},
   "source": [
    "# 큐\n",
    "- 우선 순의 지정 가능"
   ]
  },
  {
   "cell_type": "code",
   "execution_count": 37,
   "id": "7b12199c-ed8e-4502-a5c7-6a4b48ba970b",
   "metadata": {},
   "outputs": [
    {
     "name": "stdout",
     "output_type": "stream",
     "text": [
      "(1, 'ㅇㅇㅇ')\n"
     ]
    },
    {
     "data": {
      "text/plain": [
       "(2, 'aaa')"
      ]
     },
     "execution_count": 37,
     "metadata": {},
     "output_type": "execute_result"
    }
   ],
   "source": [
    "from queue import PriorityQueue\n",
    "pq = PriorityQueue()\n",
    "pq.put((5, '친구 약속'))\n",
    "pq.put((3, '가족 호출'))\n",
    "pq.put((1, 'ㅇㅇㅇ'))\n",
    "pq.put((7, 'ㄱㄱㄱ'))\n",
    "pq.put((10, 'ㅂㅂㅂ'))\n",
    "pq.put((2, 'aaa'))\n",
    "print(pq.get())\n",
    "pq.get()"
   ]
  },
  {
   "cell_type": "markdown",
   "id": "f4ff74d0-daba-4d4c-9fe3-61d0d9a5b82c",
   "metadata": {},
   "source": [
    "# 펙토리얼\n",
    "### factorial\n",
    "5! = 5＊4＊3＊2＊1 = 5＊4! = 5＊4＊3!\n",
    "> 재귀함수 vs 스택"
   ]
  },
  {
   "cell_type": "code",
   "execution_count": 9,
   "id": "97dfda90-1f94-4e49-bd8f-1b875137b554",
   "metadata": {},
   "outputs": [
    {
     "name": "stdout",
     "output_type": "stream",
     "text": [
      "120\n"
     ]
    }
   ],
   "source": [
    "# 재귀함수\n",
    "def fact(n):\n",
    "    if n == 1:\n",
    "        return 1\n",
    "    return n * fact(n-1)\n",
    "\n",
    "print(fact(5))"
   ]
  },
  {
   "cell_type": "code",
   "execution_count": 12,
   "id": "a638aaa5-d20c-4b8c-929c-86721fef9bfb",
   "metadata": {},
   "outputs": [
    {
     "data": {
      "text/plain": [
       "120"
      ]
     },
     "execution_count": 12,
     "metadata": {},
     "output_type": "execute_result"
    }
   ],
   "source": [
    "def fact_stack(n):\n",
    "    result = 1\n",
    "    stack = []\n",
    "    for i in range(1, n + 1):\n",
    "        stack.append(i)  # 1,2 ,3,4,5\n",
    "    while stack:\n",
    "        result *= stack.pop()  #5*4*3*2*1\n",
    "    return result\n",
    "\n",
    "fact_stack(5)"
   ]
  },
  {
   "cell_type": "code",
   "execution_count": null,
   "id": "4f1719dd-1926-4597-a859-e0e6094359ca",
   "metadata": {},
   "outputs": [],
   "source": []
  }
 ],
 "metadata": {
  "kernelspec": {
   "display_name": "Python 3 (ipykernel)",
   "language": "python",
   "name": "python3"
  },
  "language_info": {
   "codemirror_mode": {
    "name": "ipython",
    "version": 3
   },
   "file_extension": ".py",
   "mimetype": "text/x-python",
   "name": "python",
   "nbconvert_exporter": "python",
   "pygments_lexer": "ipython3",
   "version": "3.12.3"
  }
 },
 "nbformat": 4,
 "nbformat_minor": 5
}
