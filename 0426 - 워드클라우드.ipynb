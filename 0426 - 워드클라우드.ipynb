{
 "cells": [
  {
   "cell_type": "code",
   "execution_count": 1,
   "id": "ec027918-8609-445b-9f50-029c5b3a0083",
   "metadata": {},
   "outputs": [
    {
     "name": "stdout",
     "output_type": "stream",
     "text": [
      "Collecting matplotlib\n",
      "  Downloading matplotlib-3.8.4-cp312-cp312-win_amd64.whl.metadata (5.9 kB)\n",
      "Collecting contourpy>=1.0.1 (from matplotlib)\n",
      "  Downloading contourpy-1.2.1-cp312-cp312-win_amd64.whl.metadata (5.8 kB)\n",
      "Collecting cycler>=0.10 (from matplotlib)\n",
      "  Downloading cycler-0.12.1-py3-none-any.whl.metadata (3.8 kB)\n",
      "Collecting fonttools>=4.22.0 (from matplotlib)\n",
      "  Downloading fonttools-4.51.0-cp312-cp312-win_amd64.whl.metadata (162 kB)\n",
      "     ---------------------------------------- 0.0/162.8 kB ? eta -:--:--\n",
      "     -------------------------------------- 162.8/162.8 kB 9.5 MB/s eta 0:00:00\n",
      "Collecting kiwisolver>=1.3.1 (from matplotlib)\n",
      "  Downloading kiwisolver-1.4.5-cp312-cp312-win_amd64.whl.metadata (6.5 kB)\n",
      "Collecting numpy>=1.21 (from matplotlib)\n",
      "  Downloading numpy-1.26.4-cp312-cp312-win_amd64.whl.metadata (61 kB)\n",
      "     ---------------------------------------- 0.0/61.0 kB ? eta -:--:--\n",
      "     ---------------------------------------- 61.0/61.0 kB 3.4 MB/s eta 0:00:00\n",
      "Requirement already satisfied: packaging>=20.0 in c:\\users\\study\\.conda\\envs\\mulcam3_12\\lib\\site-packages (from matplotlib) (23.2)\n",
      "Collecting pillow>=8 (from matplotlib)\n",
      "  Downloading pillow-10.3.0-cp312-cp312-win_amd64.whl.metadata (9.4 kB)\n",
      "Collecting pyparsing>=2.3.1 (from matplotlib)\n",
      "  Downloading pyparsing-3.1.2-py3-none-any.whl.metadata (5.1 kB)\n",
      "Requirement already satisfied: python-dateutil>=2.7 in c:\\users\\study\\.conda\\envs\\mulcam3_12\\lib\\site-packages (from matplotlib) (2.8.2)\n",
      "Requirement already satisfied: six>=1.5 in c:\\users\\study\\.conda\\envs\\mulcam3_12\\lib\\site-packages (from python-dateutil>=2.7->matplotlib) (1.16.0)\n",
      "Downloading matplotlib-3.8.4-cp312-cp312-win_amd64.whl (7.7 MB)\n",
      "   ---------------------------------------- 0.0/7.7 MB ? eta -:--:--\n",
      "   ---- ----------------------------------- 0.8/7.7 MB 16.6 MB/s eta 0:00:01\n",
      "   ------- -------------------------------- 1.5/7.7 MB 16.0 MB/s eta 0:00:01\n",
      "   ------------ --------------------------- 2.3/7.7 MB 16.3 MB/s eta 0:00:01\n",
      "   ---------------- ----------------------- 3.2/7.7 MB 17.0 MB/s eta 0:00:01\n",
      "   -------------------- ------------------- 3.9/7.7 MB 15.5 MB/s eta 0:00:01\n",
      "   ----------------------- ---------------- 4.5/7.7 MB 15.1 MB/s eta 0:00:01\n",
      "   --------------------------- ------------ 5.2/7.7 MB 15.0 MB/s eta 0:00:01\n",
      "   ------------------------------ --------- 5.8/7.7 MB 14.7 MB/s eta 0:00:01\n",
      "   -------------------------------- ------- 6.2/7.7 MB 14.6 MB/s eta 0:00:01\n",
      "   ---------------------------------- ----- 6.6/7.7 MB 14.1 MB/s eta 0:00:01\n",
      "   ------------------------------------- -- 7.2/7.7 MB 13.5 MB/s eta 0:00:01\n",
      "   ---------------------------------------  7.6/7.7 MB 13.1 MB/s eta 0:00:01\n",
      "   ---------------------------------------  7.7/7.7 MB 13.2 MB/s eta 0:00:01\n",
      "   ---------------------------------------  7.7/7.7 MB 13.2 MB/s eta 0:00:01\n",
      "   ---------------------------------------  7.7/7.7 MB 13.2 MB/s eta 0:00:01\n",
      "   ---------------------------------------- 7.7/7.7 MB 10.6 MB/s eta 0:00:00\n",
      "Downloading contourpy-1.2.1-cp312-cp312-win_amd64.whl (189 kB)\n",
      "   ---------------------------------------- 0.0/189.9 kB ? eta -:--:--\n",
      "   ------------------------------------- - 184.3/189.9 kB 10.9 MB/s eta 0:00:01\n",
      "   ---------------------------------------- 189.9/189.9 kB 2.3 MB/s eta 0:00:00\n",
      "Downloading cycler-0.12.1-py3-none-any.whl (8.3 kB)\n",
      "Downloading fonttools-4.51.0-cp312-cp312-win_amd64.whl (2.2 MB)\n",
      "   ---------------------------------------- 0.0/2.2 MB ? eta -:--:--\n",
      "   --------- ------------------------------ 0.5/2.2 MB 11.3 MB/s eta 0:00:01\n",
      "   ------------------ --------------------- 1.0/2.2 MB 8.9 MB/s eta 0:00:01\n",
      "   ------------------------ --------------- 1.3/2.2 MB 8.3 MB/s eta 0:00:01\n",
      "   ------------------------------ --------- 1.6/2.2 MB 8.0 MB/s eta 0:00:01\n",
      "   ------------------------------------ --- 2.0/2.2 MB 7.8 MB/s eta 0:00:01\n",
      "   ---------------------------------------  2.2/2.2 MB 7.7 MB/s eta 0:00:01\n",
      "   ---------------------------------------- 2.2/2.2 MB 6.6 MB/s eta 0:00:00\n",
      "Downloading kiwisolver-1.4.5-cp312-cp312-win_amd64.whl (56 kB)\n",
      "   ---------------------------------------- 0.0/56.0 kB ? eta -:--:--\n",
      "   ---------------------------------------- 56.0/56.0 kB 1.5 MB/s eta 0:00:00\n",
      "Downloading numpy-1.26.4-cp312-cp312-win_amd64.whl (15.5 MB)\n",
      "   ---------------------------------------- 0.0/15.5 MB ? eta -:--:--\n",
      "   - -------------------------------------- 0.4/15.5 MB 12.9 MB/s eta 0:00:02\n",
      "   -- ------------------------------------- 0.9/15.5 MB 10.9 MB/s eta 0:00:02\n",
      "   --- ------------------------------------ 1.3/15.5 MB 10.6 MB/s eta 0:00:02\n",
      "   ----- ---------------------------------- 2.1/15.5 MB 11.3 MB/s eta 0:00:02\n",
      "   ------- -------------------------------- 3.1/15.5 MB 12.3 MB/s eta 0:00:02\n",
      "   --------- ------------------------------ 3.7/15.5 MB 12.5 MB/s eta 0:00:01\n",
      "   ----------- ---------------------------- 4.5/15.5 MB 12.4 MB/s eta 0:00:01\n",
      "   ------------ --------------------------- 5.0/15.5 MB 12.3 MB/s eta 0:00:01\n",
      "   -------------- ------------------------- 5.6/15.5 MB 11.9 MB/s eta 0:00:01\n",
      "   --------------- ------------------------ 6.0/15.5 MB 11.7 MB/s eta 0:00:01\n",
      "   ----------------- ---------------------- 6.8/15.5 MB 11.7 MB/s eta 0:00:01\n",
      "   ------------------- -------------------- 7.6/15.5 MB 12.2 MB/s eta 0:00:01\n",
      "   --------------------- ------------------ 8.3/15.5 MB 12.6 MB/s eta 0:00:01\n",
      "   ---------------------- ----------------- 8.8/15.5 MB 12.6 MB/s eta 0:00:01\n",
      "   ------------------------ --------------- 9.4/15.5 MB 12.5 MB/s eta 0:00:01\n",
      "   ------------------------- -------------- 9.8/15.5 MB 12.3 MB/s eta 0:00:01\n",
      "   -------------------------- ------------- 10.2/15.5 MB 12.1 MB/s eta 0:00:01\n",
      "   --------------------------- ------------ 10.7/15.5 MB 12.1 MB/s eta 0:00:01\n",
      "   ---------------------------- ----------- 11.1/15.5 MB 11.9 MB/s eta 0:00:01\n",
      "   ----------------------------- ---------- 11.4/15.5 MB 11.5 MB/s eta 0:00:01\n",
      "   ----------------------------- ---------- 11.6/15.5 MB 11.1 MB/s eta 0:00:01\n",
      "   ------------------------------ --------- 11.8/15.5 MB 10.7 MB/s eta 0:00:01\n",
      "   ------------------------------ --------- 12.0/15.5 MB 10.4 MB/s eta 0:00:01\n",
      "   ------------------------------- -------- 12.4/15.5 MB 10.4 MB/s eta 0:00:01\n",
      "   --------------------------------- ------ 12.9/15.5 MB 10.2 MB/s eta 0:00:01\n",
      "   ---------------------------------- ----- 13.5/15.5 MB 10.1 MB/s eta 0:00:01\n",
      "   ------------------------------------ --- 14.2/15.5 MB 10.1 MB/s eta 0:00:01\n",
      "   -------------------------------------- - 14.8/15.5 MB 10.1 MB/s eta 0:00:01\n",
      "   ---------------------------------------  15.4/15.5 MB 10.2 MB/s eta 0:00:01\n",
      "   ---------------------------------------  15.5/15.5 MB 10.2 MB/s eta 0:00:01\n",
      "   ---------------------------------------  15.5/15.5 MB 10.2 MB/s eta 0:00:01\n",
      "   ---------------------------------------- 15.5/15.5 MB 9.3 MB/s eta 0:00:00\n",
      "Downloading pillow-10.3.0-cp312-cp312-win_amd64.whl (2.5 MB)\n",
      "   ---------------------------------------- 0.0/2.5 MB ? eta -:--:--\n",
      "   ------------ --------------------------- 0.8/2.5 MB 16.6 MB/s eta 0:00:01\n",
      "   ----------------------- ---------------- 1.5/2.5 MB 15.5 MB/s eta 0:00:01\n",
      "   -------------------------------- ------- 2.1/2.5 MB 14.6 MB/s eta 0:00:01\n",
      "   ---------------------------------------  2.5/2.5 MB 14.6 MB/s eta 0:00:01\n",
      "   ---------------------------------------- 2.5/2.5 MB 11.5 MB/s eta 0:00:00\n",
      "Downloading pyparsing-3.1.2-py3-none-any.whl (103 kB)\n",
      "   ---------------------------------------- 0.0/103.2 kB ? eta -:--:--\n",
      "   ---------------------------------------- 103.2/103.2 kB 5.8 MB/s eta 0:00:00\n",
      "Installing collected packages: pyparsing, pillow, numpy, kiwisolver, fonttools, cycler, contourpy, matplotlib\n",
      "Successfully installed contourpy-1.2.1 cycler-0.12.1 fonttools-4.51.0 kiwisolver-1.4.5 matplotlib-3.8.4 numpy-1.26.4 pillow-10.3.0 pyparsing-3.1.2\n"
     ]
    }
   ],
   "source": [
    "# !pip install matplotlib"
   ]
  },
  {
   "cell_type": "markdown",
   "id": "02d2e9e8-e6a8-4973-9107-e52d392910b5",
   "metadata": {},
   "source": [
    "# matplotlib\n",
    "- !pip install matplotlib\n",
    "- 한글 깨짐"
   ]
  },
  {
   "cell_type": "code",
   "execution_count": 2,
   "id": "d28168a2-e854-4225-b084-89d95c43122b",
   "metadata": {},
   "outputs": [],
   "source": []
  },
  {
   "cell_type": "code",
   "execution_count": 10,
   "id": "33fb6516-1348-4a9e-9397-3df152ac933f",
   "metadata": {
    "scrolled": true
   },
   "outputs": [
    {
     "data": {
      "image/png": "[encoded data removed]",
      "text/plain": [
       "<Figure size 640x480 with 1 Axes>"
      ]
     },
     "metadata": {},
     "output_type": "display_data"
    }
   ],
   "source": [
    "import matplotlib.pyplot as plt\n",
    "\n",
    "\n",
    "\n",
    "plt.title(\"hi\")\n",
    "plt.show()"
   ]
  },
  {
   "cell_type": "markdown",
   "id": "76878955-064c-412f-a91e-ba7e5d9621b7",
   "metadata": {},
   "source": [
    "## 한글 나오게 하기\n",
    "- import matplotlib  \n",
    "matplotlib.rc('font', family=\"Malgun Gothic\")\n",
    "> 맥   \n",
    "> plt.rcParams['font.family'] = 'AppleGothic'"
   ]
  },
  {
   "cell_type": "code",
   "execution_count": 11,
   "id": "9a95d030-eab7-45ea-a378-ae22b34455ec",
   "metadata": {},
   "outputs": [
    {
     "data": {
      "image/png": "[encoded data removed]",
      "text/plain": [
       "<Figure size 640x480 with 1 Axes>"
      ]
     },
     "metadata": {},
     "output_type": "display_data"
    }
   ],
   "source": [
    "import matplotlib\n",
    "matplotlib.rc('font', family=\"Malgun Gothic\")\n",
    "plt.title(\"안녕\")\n",
    "plt.show()"
   ]
  },
  {
   "cell_type": "markdown",
   "id": "1f7a4ca0-a4f2-4087-9565-b8803309c71b",
   "metadata": {},
   "source": [
    "# 워드클라우드 만들려면 '가' '를' 이런거 구분해서 뗄 줄 알아야함\n",
    "형태소 분석기\n",
    "- OKT (트위터, 윈도우)\n",
    "- mecab (일본어, 리눅스)\n",
    "- khaiii (카카오, 리눅스)\n",
    "\n",
    "### java 필요\n",
    "\n",
    "- !pip install jpype\n",
    "- pc에 JDK설치, jpype 설치\n",
    "- !pip install konlpy\n",
    "- from konlpy.tag import Okt"
   ]
  },
  {
   "cell_type": "code",
   "execution_count": null,
   "id": "8a09b236-7697-4f09-9f4a-2f2d519ea1a1",
   "metadata": {},
   "outputs": [],
   "source": []
  }
 ],
 "metadata": {
  "kernelspec": {
   "display_name": "Python 3 (ipykernel)",
   "language": "python",
   "name": "python3"
  },
  "language_info": {
   "codemirror_mode": {
    "name": "ipython",
    "version": 3
   },
   "file_extension": ".py",
   "mimetype": "text/x-python",
   "name": "python",
   "nbconvert_exporter": "python",
   "pygments_lexer": "ipython3",
   "version": "3.12.3"
  }
 },
 "nbformat": 4,
 "nbformat_minor": 5
}
