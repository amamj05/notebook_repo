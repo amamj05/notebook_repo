{
 "cells": [
  {
   "cell_type": "markdown",
   "id": "5df66267-e88f-4814-95c5-6d5fed1cde8c",
   "metadata": {},
   "source": [
    "### https://www.acmicpc.net/problem/1874\n",
    "80쪽"
   ]
  },
  {
   "cell_type": "markdown",
   "id": "652f5303-99dd-454e-b9b1-cccf4accbee7",
   "metadata": {},
   "source": [
    "### 문제\n",
    "스택 (stack)은 기본적인 자료구조 중 하나로, 컴퓨터 프로그램을 작성할 때 자주 이용되는 개념이다. 스택은 자료를 넣는 (push) 입구와 자료를 뽑는 (pop) 입구가 같아 제일 나중에 들어간 자료가 제일 먼저 나오는 (LIFO, Last in First out) 특성을 가지고 있다.\r\n",
    "\r\n",
    "1부터 n까지의 수를 스택에 넣었다가 뽑아 늘어놓음으로써, 하나의 수열을 만들 수 있다. 이때, 스택에 push하는 순서는 반드시 오름차순을 지키도록 한다고 하자. 임의의 수열이 주어졌을 때 스택을 이용해 그 수열을 만들 수 있는지 없는지, 있다면 어떤 순서로 push와 pop 연산을 수행해야 하는지를 알아낼 수 있다. 이를 계산하는 프로그램을 작성하라."
   ]
  },
  {
   "cell_type": "markdown",
   "id": "0605b251-75b3-467d-8ea9-e37e1154d10c",
   "metadata": {},
   "source": [
    "### 입력\n",
    "첫 줄에 n (1 ≤ n ≤ 100,000)이 주어진다. 둘째 줄부터 n개의 줄에는 수열을 이루는 1이상 n이하의 정수가 하나씩 순서대로 주어진다. 물론 같은 정수가 두 번 나오는 일은 없다."
   ]
  },
  {
   "cell_type": "markdown",
   "id": "e8bde45e-ea4c-40c2-b408-d852c94fb97a",
   "metadata": {},
   "source": [
    "### 출력\n",
    "입력된 수열을 만들기 위해 필요한 연산을 한 줄에 한 개씩 출력한다. push연산은 +로, pop 연산은 -로 표현하도록 한다. 불가능한 경우 NO를 출력한다."
   ]
  },
  {
   "cell_type": "markdown",
   "id": "ead36768-3cb5-453b-8a8f-6445e7a278de",
   "metadata": {},
   "source": [
    "- 입력 : 중복 없는 정수\n",
    "- 출력 : push는 + pop은 - 로 출력, 불가능하면 NO"
   ]
  },
  {
   "cell_type": "code",
   "execution_count": null,
   "id": "2ff58a5c-f9c7-4c53-8dc9-34062daae747",
   "metadata": {},
   "outputs": [],
   "source": []
  },
  {
   "cell_type": "code",
   "execution_count": 11,
   "id": "6e7ff058-1d48-4d21-b929-d64fe60feac6",
   "metadata": {},
   "outputs": [
    {
     "name": "stdin",
     "output_type": "stream",
     "text": [
      " 8\n",
      " 4\n",
      " 3\n",
      " 6\n",
      " 8\n",
      " 7\n",
      " 5\n",
      " 2\n",
      " 1\n"
     ]
    }
   ],
   "source": [
    "inputNum = int(input())\n",
    "A = [0]*inputNum\n",
    "\n",
    "for i in range(inputNum):\n",
    "    A[i] = int(input())"
   ]
  },
  {
   "cell_type": "code",
   "execution_count": 12,
   "id": "f8d710a4-3719-4735-8e90-51c2baa247ef",
   "metadata": {},
   "outputs": [
    {
     "data": {
      "text/plain": [
       "[4, 3, 6, 8, 7, 5, 2, 1]"
      ]
     },
     "execution_count": 12,
     "metadata": {},
     "output_type": "execute_result"
    }
   ],
   "source": [
    "A"
   ]
  },
  {
   "cell_type": "code",
   "execution_count": 9,
   "id": "488a5e38-a1dc-412d-8a96-e8225e5c23f5",
   "metadata": {},
   "outputs": [],
   "source": [
    "stack = []\n",
    "num = 1\n",
    "answer = \"\"\n",
    "result = True"
   ]
  },
  {
   "cell_type": "markdown",
   "id": "8f6c10ff-a3e3-4c95-a5fa-e5ef541d9a86",
   "metadata": {},
   "source": [
    "# 책"
   ]
  },
  {
   "cell_type": "code",
   "execution_count": 40,
   "id": "0cc45418-45d3-4898-b5ce-7fc3c80d4dc6",
   "metadata": {},
   "outputs": [
    {
     "name": "stdin",
     "output_type": "stream",
     "text": [
      " 8\n",
      " 4\n",
      " 3\n",
      " 6\n",
      " 8\n",
      " 7\n",
      " 5\n",
      " 2\n",
      " 1\n"
     ]
    },
    {
     "name": "stdout",
     "output_type": "stream",
     "text": [
      "+\n",
      "+\n",
      "+\n",
      "+\n",
      "-\n",
      "-\n",
      "+\n",
      "+\n",
      "-\n",
      "+\n",
      "+\n",
      "-\n",
      "-\n",
      "-\n",
      "-\n",
      "-\n",
      "\n"
     ]
    }
   ],
   "source": [
    "inputNum = int(input())\n",
    "A = [0]*inputNum\n",
    "\n",
    "for i in range(inputNum):\n",
    "    A[i] = int(input())\n",
    "    \n",
    "stack = []\n",
    "num = 1\n",
    "answer = \"\"\n",
    "result = True\n",
    "\n",
    "\n",
    "for u in range(inputNum):\n",
    "    inNum = A[u]\n",
    "    if inNum >= num:\n",
    "        while inNum >= num:\n",
    "            stack.append(num)\n",
    "            num += 1\n",
    "            answer += \"+\\n\"\n",
    "        stack.pop()\n",
    "        answer += \"-\\n\"\n",
    "    else:\n",
    "        n = stack.pop()\n",
    "        if n > inNum:\n",
    "            print(\"NO\")\n",
    "            result = False\n",
    "            break\n",
    "        else:\n",
    "            answer += \"-\\n\"\n",
    "            \n",
    "if result:\n",
    "    print(answer)"
   ]
  },
  {
   "cell_type": "markdown",
   "id": "deeb88c5-aa6a-41c6-8213-f260d58330fa",
   "metadata": {},
   "source": [
    "#### 정답 소스 파일"
   ]
  },
  {
   "cell_type": "code",
   "execution_count": 37,
   "id": "b0fb9e9b-9d0f-4bd2-a162-36acef35507c",
   "metadata": {},
   "outputs": [
    {
     "name": "stdin",
     "output_type": "stream",
     "text": [
      " 8\n",
      " 4\n",
      " 3\n",
      " 6\n",
      " 8\n",
      " 7\n",
      " 5\n",
      " 2\n",
      " 1\n"
     ]
    },
    {
     "name": "stdout",
     "output_type": "stream",
     "text": [
      "+\n",
      "+\n",
      "+\n",
      "+\n",
      "-\n",
      "-\n",
      "+\n",
      "+\n",
      "-\n",
      "+\n",
      "+\n",
      "-\n",
      "-\n",
      "-\n",
      "-\n",
      "-\n",
      "\n"
     ]
    }
   ],
   "source": [
    "N = int(input())\n",
    "A = [0]*N\n",
    "for i in range(N):\n",
    "    A[i] = int(input())\n",
    "stack = []\n",
    "num = 1\n",
    "result = True\n",
    "answer = \"\"\n",
    "for i in range(N):\n",
    "    su = A[i]\n",
    "    if su >= num:   \n",
    "        while su >= num:\n",
    "            stack.append(num)\n",
    "            num += 1\n",
    "            answer += \"+\\n\"\n",
    "        stack.pop()\n",
    "        answer += \"-\\n\"\n",
    "    else:           \n",
    "        n = stack.pop()\n",
    "        if n > su:  \n",
    "            print(\"NO\")\n",
    "            result = False\n",
    "            break\n",
    "        else:\n",
    "            answer += \"-\\n\"\n",
    "if result:\n",
    "    print(answer)\n"
   ]
  },
  {
   "cell_type": "markdown",
   "id": "5d00791f-bce9-41e1-856d-55cbd9f53425",
   "metadata": {},
   "source": [
    "# 강사님"
   ]
  },
  {
   "cell_type": "code",
   "execution_count": 18,
   "id": "5d010b88-c8ca-4207-bd27-79aba9a85e13",
   "metadata": {},
   "outputs": [
    {
     "name": "stdin",
     "output_type": "stream",
     "text": [
      " 5\n",
      " 1\n",
      " 2\n",
      " 5\n",
      " 3\n",
      " 4\n"
     ]
    },
    {
     "name": "stdout",
     "output_type": "stream",
     "text": [
      "NO\n",
      "-\n"
     ]
    }
   ],
   "source": [
    "N = int(input())\n",
    "A = [int(input()) for _ in range(N)]\n",
    "stack = []\n",
    "answer = []\n",
    "num = 1\n",
    "for u in A:\n",
    "    while u >= num:\n",
    "        stack.append(num)\n",
    "        answer.append(\"+\")\n",
    "        num += 1\n",
    "    if stack[-1] == u:\n",
    "        stack.pop()\n",
    "        answer.append(\"-\")\n",
    "    else:\n",
    "        print(\"NO\")\n",
    "        answer = []\n",
    "if len(answer) > 0:\n",
    "    print(\"\\n\".join(answer))"
   ]
  },
  {
   "cell_type": "markdown",
   "id": "1946115f-b57c-42c3-bcd1-36eda08a4f30",
   "metadata": {},
   "source": [
    "# 오큰수\n",
    "### https://www.acmicpc.net/problem/17298\n",
    "84쪽"
   ]
  },
  {
   "cell_type": "code",
   "execution_count": 32,
   "id": "147973d7-fb44-4813-b7ef-e908c579705e",
   "metadata": {},
   "outputs": [
    {
     "name": "stdin",
     "output_type": "stream",
     "text": [
      " 4\n",
      " 3 5 2 7\n"
     ]
    },
    {
     "name": "stdout",
     "output_type": "stream",
     "text": [
      "5 7 7 -1 \n"
     ]
    }
   ],
   "source": [
    "N = int(input())\n",
    "ans = [0] * N\n",
    "myStack = []\n",
    "A = list(map(int, input().split()))\n",
    "\n",
    "\n",
    "for i in range(N):\n",
    "    while myStack and A[myStack[-1]] < A[i]:\n",
    "        ans[myStack.pop()] = A[i]\n",
    "    myStack.append(i)\n",
    "while myStack:\n",
    "    ans[myStack.pop()] = -1\n",
    "\n",
    "result = \"\"\n",
    "\n",
    "for i in range(N):\n",
    "    result += str(ans[i])+\" \"\n",
    "\n",
    "print(result)"
   ]
  },
  {
   "cell_type": "code",
   "execution_count": null,
   "id": "0aeadc8e-b507-4298-87c6-8bee4520766c",
   "metadata": {},
   "outputs": [],
   "source": []
  }
 ],
 "metadata": {
  "kernelspec": {
   "display_name": "Python 3 (ipykernel)",
   "language": "python",
   "name": "python3"
  },
  "language_info": {
   "codemirror_mode": {
    "name": "ipython",
    "version": 3
   },
   "file_extension": ".py",
   "mimetype": "text/x-python",
   "name": "python",
   "nbconvert_exporter": "python",
   "pygments_lexer": "ipython3",
   "version": "3.12.3"
  }
 },
 "nbformat": 4,
 "nbformat_minor": 5
}
