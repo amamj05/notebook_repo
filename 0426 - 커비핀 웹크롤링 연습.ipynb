{
 "cells": [
  {
   "cell_type": "code",
   "execution_count": 3,
   "id": "d7533cf3-056f-4936-9b51-23bc5cc9f1ac",
   "metadata": {},
   "outputs": [
    {
     "name": "stdout",
     "output_type": "stream",
     "text": [
      "Requirement already satisfied: selenium in c:\\users\\study\\.conda\\envs\\mulcam3_12\\lib\\site-packages (4.20.0)\n",
      "Requirement already satisfied: urllib3<3,>=1.26 in c:\\users\\study\\.conda\\envs\\mulcam3_12\\lib\\site-packages (from urllib3[socks]<3,>=1.26->selenium) (2.1.0)\n",
      "Requirement already satisfied: trio~=0.17 in c:\\users\\study\\.conda\\envs\\mulcam3_12\\lib\\site-packages (from selenium) (0.25.0)\n",
      "Requirement already satisfied: trio-websocket~=0.9 in c:\\users\\study\\.conda\\envs\\mulcam3_12\\lib\\site-packages (from selenium) (0.11.1)\n",
      "Requirement already satisfied: certifi>=2021.10.8 in c:\\users\\study\\.conda\\envs\\mulcam3_12\\lib\\site-packages (from selenium) (2024.2.2)\n",
      "Requirement already satisfied: typing_extensions>=4.9.0 in c:\\users\\study\\.conda\\envs\\mulcam3_12\\lib\\site-packages (from selenium) (4.9.0)\n",
      "Requirement already satisfied: attrs>=23.2.0 in c:\\users\\study\\.conda\\envs\\mulcam3_12\\lib\\site-packages (from trio~=0.17->selenium) (23.2.0)\n",
      "Requirement already satisfied: sortedcontainers in c:\\users\\study\\.conda\\envs\\mulcam3_12\\lib\\site-packages (from trio~=0.17->selenium) (2.4.0)\n",
      "Requirement already satisfied: idna in c:\\users\\study\\.conda\\envs\\mulcam3_12\\lib\\site-packages (from trio~=0.17->selenium) (3.4)\n",
      "Requirement already satisfied: outcome in c:\\users\\study\\.conda\\envs\\mulcam3_12\\lib\\site-packages (from trio~=0.17->selenium) (1.3.0.post0)\n",
      "Requirement already satisfied: sniffio>=1.3.0 in c:\\users\\study\\.conda\\envs\\mulcam3_12\\lib\\site-packages (from trio~=0.17->selenium) (1.3.0)\n",
      "Requirement already satisfied: cffi>=1.14 in c:\\users\\study\\.conda\\envs\\mulcam3_12\\lib\\site-packages (from trio~=0.17->selenium) (1.16.0)\n",
      "Requirement already satisfied: wsproto>=0.14 in c:\\users\\study\\.conda\\envs\\mulcam3_12\\lib\\site-packages (from trio-websocket~=0.9->selenium) (1.2.0)\n",
      "Requirement already satisfied: pysocks!=1.5.7,<2.0,>=1.5.6 in c:\\users\\study\\.conda\\envs\\mulcam3_12\\lib\\site-packages (from urllib3[socks]<3,>=1.26->selenium) (1.7.1)\n",
      "Requirement already satisfied: pycparser in c:\\users\\study\\.conda\\envs\\mulcam3_12\\lib\\site-packages (from cffi>=1.14->trio~=0.17->selenium) (2.21)\n",
      "Requirement already satisfied: h11<1,>=0.9.0 in c:\\users\\study\\.conda\\envs\\mulcam3_12\\lib\\site-packages (from wsproto>=0.14->trio-websocket~=0.9->selenium) (0.14.0)\n"
     ]
    }
   ],
   "source": [
    "!pip install selenium"
   ]
  },
  {
   "cell_type": "code",
   "execution_count": null,
   "id": "6ab4ddea-10ee-43cf-a79f-cb545cb6a2fa",
   "metadata": {},
   "outputs": [],
   "source": []
  },
  {
   "cell_type": "markdown",
   "id": "3b78aa7c-6a36-4b12-a95f-b01a889dd93a",
   "metadata": {},
   "source": [
    "# 강사님 코드\n",
    "- 레이어드 팝업에 들어가서 정보 보기\n",
    "- 자바스크립트 속으로 들어가서 정보 가져오기 (셀레니움 활용)"
   ]
  },
  {
   "cell_type": "code",
   "execution_count": null,
   "id": "aeb3eceb-a06e-4698-b214-83fdb778873d",
   "metadata": {},
   "outputs": [],
   "source": [
    "from bs4 import BeautifulSoup\n",
    "from selenium import webdriver\n",
    "import time\n",
    "result = []\n",
    "\n",
    "wd = webdriver.Chrome()\n",
    "\n",
    "for store_index in range(1, 370+1):\n",
    "    wd.get(\"https://www.coffeebeankorea.com/store/store.asp\")\n",
    "    time.sleep(10)\n",
    "    try:\n",
    "        wd.execute_script(f\"storePop2({store_index})\")\n",
    "        time.sleep(10)\n",
    "        html = wd.page_source\n",
    "        \n",
    "        soup = BeautifulSoup(html, \"html.parser\")\n",
    "        \n",
    "        store_info = soup.select(\"div.store_txt>table.store_table>tbody>tr>td\")\n",
    "        store = soup.select(\"div.store_txt>h2\")\n",
    "        store_name = store[0].string\n",
    "        address = list(store_info[2])[0].strip()\n",
    "        phone_number = store_info[3].string\n",
    "        result.append([store_name]+[address]+[phone_number])\n",
    "        print(str(store_index+\"지점 저장\", end=\"/\"))\n",
    "    except:\n",
    "        print(str(store_index+\"에서 에러\", end=\"/\"))\n"
   ]
  },
  {
   "cell_type": "markdown",
   "id": "ba4bf4fb-b791-434b-a34a-401e493eabd6",
   "metadata": {},
   "source": [
    "# 나 연습"
   ]
  },
  {
   "cell_type": "code",
   "execution_count": 4,
   "id": "33e93c06-fcbd-4267-9b10-c1e810b49bf7",
   "metadata": {},
   "outputs": [
    {
     "ename": "NameError",
     "evalue": "name 'webdriver' is not defined",
     "output_type": "error",
     "traceback": [
      "\u001b[1;31m---------------------------------------------------------------------------\u001b[0m",
      "\u001b[1;31mNameError\u001b[0m                                 Traceback (most recent call last)",
      "Cell \u001b[1;32mIn[4], line 5\u001b[0m\n\u001b[0;32m      2\u001b[0m \u001b[38;5;66;03m# from selenium import webdriver\u001b[39;00m\n\u001b[0;32m      3\u001b[0m \u001b[38;5;28;01mimport\u001b[39;00m \u001b[38;5;21;01mtime\u001b[39;00m\n\u001b[1;32m----> 5\u001b[0m wd \u001b[38;5;241m=\u001b[39m webdriver\u001b[38;5;241m.\u001b[39mChrome()\n\u001b[0;32m      7\u001b[0m wd\u001b[38;5;241m.\u001b[39mget(\u001b[38;5;124m\"\u001b[39m\u001b[38;5;124mhttps://www.coffeebeankorea.com/store/store.asp\u001b[39m\u001b[38;5;124m\"\u001b[39m)\n\u001b[0;32m      8\u001b[0m time\u001b[38;5;241m.\u001b[39msleep(\u001b[38;5;241m10\u001b[39m)\n",
      "\u001b[1;31mNameError\u001b[0m: name 'webdriver' is not defined"
     ]
    }
   ],
   "source": [
    "from bs4 import BeautifulSoup\n",
    "# from selenium import webdriver\n",
    "import time\n",
    "\n",
    "wd = webdriver.Chrome()\n",
    "\n",
    "wd.get(\"https://www.coffeebeankorea.com/store/store.asp\")\n",
    "time.sleep(10)\n",
    "wd.execute_script(storePop2(store_index))\n",
    "time.sleep(10)\n",
    "html = wd.page_source\n",
    "\n",
    "soup = BeautifulSoup(html, \"html.parser\")\n",
    "\n",
    "store_info = soup.select(\"div.store_txt>table.store_table>tbody>tr>td\")\n",
    "store = soup.select(\"div.store_txt>h2\")\n",
    "store_name = store[0].string\n",
    "address = list(store_info[2])[0].strip()\n",
    "phone_number = store_info[3].string\n",
    "\n",
    "[store_name]+[address]+[phone_number]"
   ]
  },
  {
   "cell_type": "code",
   "execution_count": null,
   "id": "c0e1c21b-9109-4737-b829-ee915b3c090b",
   "metadata": {},
   "outputs": [],
   "source": []
  },
  {
   "cell_type": "code",
   "execution_count": 2,
   "id": "acac127c-f826-4ae4-aa10-c4a7a294c36f",
   "metadata": {},
   "outputs": [
    {
     "name": "stdout",
     "output_type": "stream",
     "text": [
      "[0, 12, 5, 6, 6, 8, 5]/"
     ]
    }
   ],
   "source": [
    "list = [0,12,5,6,6,8,5]\n",
    "\n",
    "for print(list, end=\"/\")"
   ]
  },
  {
   "cell_type": "code",
   "execution_count": null,
   "id": "4b2694fb-e35f-413f-8a6e-a1e130cd5b8f",
   "metadata": {},
   "outputs": [],
   "source": []
  }
 ],
 "metadata": {
  "kernelspec": {
   "display_name": "Python 3 (ipykernel)",
   "language": "python",
   "name": "python3"
  },
  "language_info": {
   "codemirror_mode": {
    "name": "ipython",
    "version": 3
   },
   "file_extension": ".py",
   "mimetype": "text/x-python",
   "name": "python",
   "nbconvert_exporter": "python",
   "pygments_lexer": "ipython3",
   "version": "3.12.3"
  }
 },
 "nbformat": 4,
 "nbformat_minor": 5
}
