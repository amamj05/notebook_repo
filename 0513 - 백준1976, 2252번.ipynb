{
 "cells": [
  {
   "cell_type": "markdown",
   "id": "e3d7b2d5-8b42-4ec5-8a46-6c4e6cebe979",
   "metadata": {},
   "source": [
    "백준 1976번 문제"
   ]
  },
  {
   "cell_type": "markdown",
   "id": "90efe970-b714-4e39-8107-49e2a1e62214",
   "metadata": {},
   "source": [
    "n = int(input())\n",
    "m = int(input())\n",
    "\n",
    "dosi = [[0 for j in range(m+1] for i in range(n+1)]\n",
    "for i in range(1, n+1):\n",
    "    dosi[i] = list(map(int, input().split()))\n",
    "    dosi[i].insert(0, 0)\n",
    "route = list(map(int, input().split()))"
   ]
  },
  {
   "cell_type": "code",
   "execution_count": null,
   "id": "f1bd40de-1709-4465-9b09-5ccde7c59e11",
   "metadata": {},
   "outputs": [],
   "source": []
  },
  {
   "cell_type": "code",
   "execution_count": null,
   "id": "e8093ed9-1054-48cc-b88d-33cbe1fe865c",
   "metadata": {},
   "outputs": [],
   "source": []
  },
  {
   "cell_type": "code",
   "execution_count": null,
   "id": "221b1b05-7094-4f7a-8a37-eac604fec453",
   "metadata": {},
   "outputs": [],
   "source": []
  },
  {
   "cell_type": "code",
   "execution_count": null,
   "id": "171f8e51-9c9e-4587-aaf5-75ef230ae96e",
   "metadata": {},
   "outputs": [],
   "source": [
    "for i in range(1, n+1):\n",
    "    for j in range(n+1):\n",
    "        if dosi[i][j] == 1:\n",
    "            union(i, j)\n",
    "\n",
    "parent"
   ]
  },
  {
   "cell_type": "markdown",
   "id": "6644a3ab-be67-4b0d-a9ed-c645b65eb8d2",
   "metadata": {},
   "source": [
    "282p"
   ]
  },
  {
   "cell_type": "code",
   "execution_count": null,
   "id": "a874fead-01bb-42cc-8744-1b705cd39784",
   "metadata": {},
   "outputs": [],
   "source": []
  },
  {
   "cell_type": "markdown",
   "id": "be88dbc6-ea72-4768-99ac-7463a192eb86",
   "metadata": {},
   "source": [
    "- 진입차수 리스트\n",
    "- 인접리스트\n",
    "- 진입차수\n",
    "- 위상정렬\n",
    "- 686p\n",
    "- 2252문제"
   ]
  },
  {
   "cell_type": "code",
   "execution_count": null,
   "id": "3a2dd092-f94c-4bb9-a92f-846d18846e87",
   "metadata": {},
   "outputs": [],
   "source": [
    "q = deque()\n",
    "for i in range(1, N+1):\n",
    "    if indegree[i] == 0:\n",
    "        q.append(i)\n",
    "\n",
    "q"
   ]
  },
  {
   "cell_type": "code",
   "execution_count": null,
   "id": "15d3ff6e-d05c-408b-ba4e-170bc0f0c554",
   "metadata": {},
   "outputs": [],
   "source": [
    "while q:\n",
    "    now = q.popleft()\n",
    "    print(now, end=' ')\n",
    "    for next in A[now]:\n",
    "        indergree[next] -= 1\n",
    "        if indegree[next] == 0:\n",
    "            q.append(next)"
   ]
  },
  {
   "cell_type": "markdown",
   "id": "cfba64a6-0ced-43b4-ae52-632377ed0d38",
   "metadata": {},
   "source": [
    "### 1753번 문제\n",
    "301쪽"
   ]
  },
  {
   "cell_type": "code",
   "execution_count": null,
   "id": "d07f896d-bbbf-47e4-aa6b-8d1e2a499da4",
   "metadata": {},
   "outputs": [],
   "source": [
    "v, e = map(int, input().split())\n",
    "k = int(input())\n",
    "distance = [sys.maxsize]* (v+1)"
   ]
  },
  {
   "cell_type": "code",
   "execution_count": null,
   "id": "ce6bc0e4-071f-4a78-92f9-bb2f0b667f79",
   "metadata": {},
   "outputs": [],
   "source": [
    "q = PriorityQueue()\n",
    "q.put((0, k))\n",
    "distance(k) = 0"
   ]
  },
  {
   "cell_type": "code",
   "execution_count": 1,
   "id": "f3864e8c-97e9-452c-9f30-38fec671fca0",
   "metadata": {},
   "outputs": [
    {
     "ename": "NameError",
     "evalue": "name 'q' is not defined",
     "output_type": "error",
     "traceback": [
      "\u001b[1;31m---------------------------------------------------------------------------\u001b[0m",
      "\u001b[1;31mNameError\u001b[0m                                 Traceback (most recent call last)",
      "Cell \u001b[1;32mIn[1], line 1\u001b[0m\n\u001b[1;32m----> 1\u001b[0m \u001b[38;5;28;01mwhile\u001b[39;00m q\u001b[38;5;241m.\u001b[39mqsize()\u001b[38;5;241m>\u001b[39m\u001b[38;5;241m0\u001b[39m:\n\u001b[0;32m      2\u001b[0m     current \u001b[38;5;241m=\u001b[39m q\u001b[38;5;241m.\u001b[39mget()\n\u001b[0;32m      3\u001b[0m     c_v \u001b[38;5;241m=\u001b[39m cuurent[\u001b[38;5;241m1\u001b[39m]\n",
      "\u001b[1;31mNameError\u001b[0m: name 'q' is not defined"
     ]
    }
   ],
   "source": [
    "while q.qsize()>0:\n",
    "    current = q.get()\n",
    "    c_v = cuurent[1]\n",
    "    if visited[c_v]:\n",
    "        continue\n",
    "    visited[c_v] = True\n",
    "    for tmp in myList[c_v]:\n",
    "        next = tmp[0]\n",
    "        value = tmp[1]\n",
    "        if distance[next] > distance[c_v] + value:\n",
    "            distance[next] > distance[c_v] + value\n",
    "            q.put((distance[next], next))"
   ]
  },
  {
   "cell_type": "code",
   "execution_count": null,
   "id": "92d143c1-da65-4b4c-bba6-3c2268e8429e",
   "metadata": {},
   "outputs": [],
   "source": []
  }
 ],
 "metadata": {
  "kernelspec": {
   "display_name": "Python 3 (ipykernel)",
   "language": "python",
   "name": "python3"
  },
  "language_info": {
   "codemirror_mode": {
    "name": "ipython",
    "version": 3
   },
   "file_extension": ".py",
   "mimetype": "text/x-python",
   "name": "python",
   "nbconvert_exporter": "python",
   "pygments_lexer": "ipython3",
   "version": "3.12.3"
  }
 },
 "nbformat": 4,
 "nbformat_minor": 5
}
